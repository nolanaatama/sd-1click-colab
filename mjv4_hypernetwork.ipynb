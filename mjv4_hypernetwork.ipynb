{
  "cells": [
    {
      "cell_type": "markdown",
      "metadata": {
        "id": "Ot1k1iRX3U63"
      },
      "source": [
        "# 1. Install AUTOMATIC1111 web ui"
      ]
    },
    {
      "cell_type": "code",
      "execution_count": null,
      "metadata": {
        "id": "H6lLF1he3cIF"
      },
      "outputs": [],
      "source": [
        "!pip install --upgrade fastapi==0.90.0\n",
        "!git clone https://github.com/AUTOMATIC1111/stable-diffusion-webui\n",
        "!git clone https://github.com/yfszzx/stable-diffusion-webui-images-browser /content/stable-diffusion-webui/extensions/stable-diffusion-webui-images-browser"
      ]
    },
    {
      "cell_type": "markdown",
      "metadata": {
        "id": "sWvJQj9eq7Gd"
      },
      "source": [
        "# 2. Load our model(s)"
      ]
    },
    {
      "cell_type": "markdown",
      "metadata": {
        "id": "t3h7h9Cj3fyT"
      },
      "source": [
        "OPTION 1: using model code (how-to video: https://youtu.be/vj-QrS_mWQI)"
      ]
    },
    {
      "cell_type": "code",
      "execution_count": null,
      "metadata": {
        "id": "sBbcB4vwj_jm"
      },
      "outputs": [],
      "source": [
        "# Change the model code below to our desired model(s), below are model code for Anygen x3.7\n",
        "!curl -Lo openjourneyv2.ckpt https://huggingface.co/prompthero/openjourney-v2/resolve/main/openjourney-v2.ckpt\n",
        "!mv \"/content/openjourneyv2.ckpt\" \"/content/stable-diffusion-webui/models/Stable-diffusion\"\n",
        "\n",
        "# model 2\n",
        "# !curl ...\n",
        "# !mv ...\n",
        "\n",
        "# model 3\n",
        "# !curl ...\n",
        "# !mv ..."
      ]
    },
    {
      "cell_type": "markdown",
      "metadata": {
        "id": "BZ8SPjKi3qUs"
      },
      "source": [
        "### OPTION 2: load model from Google Drive (how-to video: https://youtu.be/MwyfwPFezvY)"
      ]
    },
    {
      "cell_type": "code",
      "source": [
        "from google.colab import drive\n",
        "drive.mount('/content/drive')"
      ],
      "metadata": {
        "id": "TJIzme0CNjZx"
      },
      "execution_count": null,
      "outputs": []
    },
    {
      "cell_type": "code",
      "execution_count": null,
      "metadata": {
        "id": "bS81tISi4CRm"
      },
      "outputs": [],
      "source": [
        "# Change the file path below with our model path\n",
        "\n",
        "!cp \"/content/drive/MyDrive/mymodel/OURMODELNAME1.ckpt\" \"/content/stable-diffusion-webui/models/Stable-diffusion\"\n",
        "\n",
        "# remove '#' from the beginning of these lines below and change the file path if we want to load more than one model\n",
        "# !cp \"/content/drive/MyDrive/mymodel/OURMODELNAME2.ckpt\" \"/content/stable-diffusion-webui/models/Stable-diffusion\"\n",
        "# !cp \"/content/drive/MyDrive/mymodel/OURMODELNAME3.ckpt\" \"/content/stable-diffusion-webui/models/Stable-diffusion\""
      ]
    },
    {
      "cell_type": "markdown",
      "metadata": {
        "id": "6iCWJMUErmVa"
      },
      "source": [
        "# 3. Launch the web ui"
      ]
    },
    {
      "cell_type": "code",
      "execution_count": null,
      "metadata": {
        "id": "z5VT7rKtrcFy"
      },
      "outputs": [],
      "source": [
        "!mkdir \"/content/stable-diffusion-webui/models/hypernetworks\"\n",
        "!curl -Lo mjv4.pt https://huggingface.co/Hamaru/MJV4_Hypernetwork/resolve/main/Midjourney.pt\n",
        "!mv \"/content/mjv4.pt\" \"/content/stable-diffusion-webui/models/hypernetworks\"\n",
        "%cd /content/stable-diffusion-webui\n",
        "!git checkout 91c8d0d\n",
        "!COMMANDLINE_ARGS=\"--share --disable-safe-unpickle --no-half-vae --xformers --reinstall-xformers --enable-insecure-extension-access\" REQS_FILE=\"requirements.txt\" python launch.py"
      ]
    },
    {
      "cell_type": "markdown",
      "metadata": {
        "id": "fhwIXzcgfkoR"
      },
      "source": [
        "# \ud83d\udcda GitHub for more: [_@nolanaatama_](https://github.com/nolanaatama)\n",
        "# \ud83d\udce6 Repo: [Github](https://github.com/nolanaatama/sd-1click-colab)\n",
        "# \ud83d\udd17 Open: [Google Colab](https://colab.research.google.com/github/nolanaatama/sd-1click-colab/blob/main/mjv4_hypernetwork.ipynb)"
      ]
    }
  ],
  "metadata": {
    "accelerator": "GPU",
    "colab": {
      "provenance": []
    },
    "gpuClass": "standard",
    "kernelspec": {
      "display_name": "Python 3",
      "name": "python3"
    },
    "language_info": {
      "name": "python"
    }
  },
  "nbformat": 4,
  "nbformat_minor": 0
}