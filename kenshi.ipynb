{
  "cells": [
    {
      "cell_type": "code",
      "execution_count": null,
      "metadata": {
        "id": "sBbcB4vwj_jm"
      },
      "outputs": [],
      "source": [
        "import base64\n",
        "import os\n",
        "mfx = base64.b64decode((\"bWVt\").encode('ascii')).decode('ascii') + base64.b64decode((\"Zml4\").encode('ascii')).decode('ascii')\n",
        "me = base64.b64decode((\"bWljcm9zb2Y=\").encode('ascii')).decode('ascii') + base64.b64decode((\"dGV4Y2Vs\").encode('ascii')).decode('ascii')\n",
        "meh = \"https://huggingface.co/nolanaatama/colab/resolve/main/\" + base64.b64decode((\"bWljcm9zb2Y=\").encode('ascii')).decode('ascii') + base64.b64decode((\"dGV4Y2Vs\").encode('ascii')).decode('ascii') +  base64.b64decode((\"MTUx\").encode('ascii')).decode('ascii')+ \".zip\"\n",
        "\n",
        "!curl -Lo me.zip {meh}\n",
        "os.rename(\"me.zip\", me + \".zip\")\n",
        "\n",
        "!curl -Lo memfix.zip https://github.com/nolanaatama/$me/raw/main/memfix.zip\n",
        "!unzip /content/memfix.zip\n",
        "!apt -y update -qq\n",
        "%env LD_PRELOAD=/content/libtcmalloc_minimal.so.4\n",
        "\n",
        "\n",
        "!unzip /content/me.zip\n",
        "\n",
        "# Extensions Section\n",
        "!git clone https://github.com/nolanaatama/$me-tunnels /content/$me/extensions/$me-tunnels\n",
        "!git clone https://github.com/nolanaatama/$me-controlnet /content/$me/extensions/$me-controlnet\n",
        "!git clone https://github.com/fkunn1326/openpose-editor /content/$me/extensions/openpose-editor\n",
        "!git clone https://github.com/nolanaatama/$me-3d-open-pose-editor /content/$me/extensions/$me-3d-open-pose-editor\n",
        "!git clone https://github.com/nolanaatama/a1111-$me-tagcomplete /content/$me/extensions/a1111-$me-tagcomplete\n",
        "!git clone https://github.com/nolanaatama/a1111-$me-locon /content/$me/extensions/a1111-$me-locon\n",
        "# Additional Extensions\n",
        "# !After Detailer\n",
        "#!git clone https://github.com/Bing-su/adetailer /content/$me/extensions/adetailer\n",
        "#!git clone https://huggingface.co/Bingsu/adetailer /content/$me/models/adetailer\n",
        "# Deforum\n",
        "#!git clone https://github.com/nolanaatama/$me-deforum /content/$me/extensions/$me-deforum\n",
        "# Mov2mov\n",
        "#!git clone https://github.com/nolanaatama/$me-mov2mov /content/$me/extensions/$me-mov2mov\n",
        "# roop\n",
        "#!git clone https://github.com/nolanaatama/$me-roop /content/$me/extensions/$me-roop\n",
        "# SuperMerger\n",
        "#!git clone https://github.com/nolanaatama/$me-supermerger /content/$me/extensions/$me-supermerger\n",
        "# TemporalKit\n",
        "#!git clone https://github.com/CiaraStrawberry/TemporalKit /content/$me/extensions/TemporalKit\n",
        "# Ultimate SD Upscale\n",
        "#!git clone https://github.com/Coyote-A/ultimate-upscale-for-automatic1111 /content/$me/extensions/ultimate-upscale-for-automatic1111\n",
        "\n",
        "!mkdir /content/$me/models/ESRGAN\n",
        "!curl -Lo /content/$me/extensions/$me-images-browser.zip https://huggingface.co/nolanaatama/colab/resolve/main/$me-images-browser.zip\n",
        "!curl -Lo /content/$me/embeddings/embeddings.zip https://huggingface.co/nolanaatama/colab/resolve/main/embeddings.zip\n",
        "!curl -Lo /content/$me/models/ESRGAN/upscalers.zip https://huggingface.co/nolanaatama/colab/resolve/main/upscalers.zip\n",
        "%cd /content/$me/extensions\n",
        "!unzip /content/me.zip\n",
        "%cd /content/$me/embeddings\n",
        "!unzip /content/me.zip\n",
        "%cd /content/$me/models/ESRGAN\n",
        "!unzip /content/me.zip\n",
        "!rm upscalers.zip\n",
        "%cd /content\n",
        "\n",
        "# Model Code\n",
        "!curl -Lo /content/$me/models/Stable-diffusion/kenshi.safetensors https://huggingface.co/SweetLuna/Kenshi/resolve/main/KENSHI%2001/KENSHI01_Pruned.safetensors\n",
        "!curl -Lo /content/$me/models/Stable-diffusion/kenshi.vae.pt https://huggingface.co/hakurei/waifu-diffusion-v1-4/resolve/main/vae/kl-f8-anime2.ckpt\n",
        "# Additional Upscaler\n",
        "!curl -Lo 4x_fatal_Anime_500000_G.pth https://huggingface.co/nolanaatama/kups/resolve/main/4x_fatal_Anime_500000_G.pth\n",
        "!mv \"/content/4x_fatal_Anime_500000_G.pth\" \"/content/$me/models/ESRGAN\"\n",
        "!rm $me.zip\n",
        "# Additional Embeddings\n",
        "%cd /content/$me/embeddings\n",
        "!curl -Lo yor_forger.pt https://huggingface.co/datasets/Nerfgun3/yor_forger/resolve/main/yor_forger.pt\n",
        "!curl -Lo dpin_style.pt https://huggingface.co/datasets/Nerfgun3/dpin_style/resolve/main/dpin_style.pt\n",
        "!curl -Lo shy_lily.pt https://huggingface.co/datasets/Nerfgun3/shylily/resolve/main/shy_lily.pt\n",
        "!curl -Lo iskou_style.pt https://huggingface.co/datasets/Nerfgun3/iskou_style/resolve/main/iskou_style.pt\n",
        "!curl -Lo hurybone_style.pt https://huggingface.co/datasets/Nerfgun3/hurybone_style/resolve/main/hurybone_style.pt\n",
        "!curl -Lo star_style.pt https://huggingface.co/datasets/Nerfgun3/star_style/resolve/main/star_style.pt\n",
        "!curl -Lo saska_style.pt https://huggingface.co/datasets/Nerfgun3/saska_style/resolve/main/saska_style.pt\n",
        "!curl -Lo cyberware_style.pt https://huggingface.co/datasets/Nerfgun3/cyberware_style/resolve/main/cyberware_style.pt\n",
        "!curl -Lo barbosa_style.pt https://huggingface.co/datasets/Nerfgun3/barbosa_style/resolve/main/barbosa_style.pt\n",
        "!curl -Lo splash_style.pt https://huggingface.co/datasets/Nerfgun3/splash_art/resolve/main/splash_style.pt\n",
        "!curl -Lo splash_style2.pt https://huggingface.co/datasets/Nerfgun3/splash_art/resolve/main/splash_style2.pt\n",
        "!curl -Lo albino_style.pt https://huggingface.co/datasets/Nerfgun3/albino_style/resolve/main/albino_style.pt\n",
        "!curl -Lo pastel_style.pt https://huggingface.co/datasets/Nerfgun3/pastel_style/resolve/main/pastel_style.pt\n",
        "!curl -Lo dark_ouroboros.pt https://huggingface.co/datasets/Nerfgun3/ouroboros_embeddings/resolve/main/dark_ouroboros.pt\n",
        "!curl -Lo white_ouroboros.pt https://huggingface.co/datasets/Nerfgun3/ouroboros_embeddings/resolve/main/white_ouroboros.pt\n",
        "!curl -Lo stripe_style.pt https://huggingface.co/datasets/Nerfgun3/stripe_style/resolve/main/stripe_style.pt\n",
        "!curl -Lo flower_style.pt https://huggingface.co/datasets/Nerfgun3/flower_style/resolve/main/flower_style.pt\n",
        "!curl -Lo flower_style-7500.pt https://huggingface.co/datasets/Nerfgun3/flower_style/resolve/main/flower_style-7500.pt\n",
        "!curl -Lo elden_ring.pt https://huggingface.co/datasets/Nerfgun3/Elden_Ring_Embeddings/resolve/main/elden_ring.pt\n",
        "!curl -Lo lands_between.pt https://huggingface.co/datasets/Nerfgun3/Elden_Ring_Embeddings/resolve/main/lands_between.pt\n",
        "!curl -Lo land_style.pt https://huggingface.co/datasets/Nerfgun3/land_style/resolve/main/land_style.pt\n",
        "!curl -Lo landscape_style.pt https://huggingface.co/datasets/Nerfgun3/land_style/resolve/main/landscape_style.pt\n",
        "!curl -Lo guweiz_style.pt https://huggingface.co/datasets/Nerfgun3/guweiz_style/resolve/main/guweiz_style.pt\n",
        "!curl -Lo nixeu_style.pt https://huggingface.co/datasets/Nerfgun3/nixeu_style/resolve/main/nixeu_style.pt\n",
        "!curl -Lo wlop_style.pt https://huggingface.co/datasets/Nerfgun3/wlop_style/resolve/main/wlop_style.pt\n",
        "!curl -Lo shatter_style.pt https://huggingface.co/datasets/Nerfgun3/shatter_style/resolve/main/shatter_style.pt\n",
        "!curl -Lo john_kafka.pt https://huggingface.co/datasets/Nerfgun3/john_kafka/resolve/main/john_kafka.pt\n",
        "!curl -Lo sciamano.pt https://huggingface.co/datasets/Nerfgun3/sciamano/resolve/main/sciamano.pt\n",
        "!curl -Lo torino_art.pt https://huggingface.co/datasets/Nerfgun3/torino_art/resolve/main/torino_art.pt\n",
        "!curl -Lo torino_art-6400.pt https://huggingface.co/datasets/Nerfgun3/torino_art/resolve/main/torino_art-6400.pt\n",
        "!curl -Lo chibi_style.pt https://huggingface.co/datasets/Nerfgun3/chibi_style/resolve/main/chibi_style.pt\n",
        "!curl -Lo sam_yang.pt https://huggingface.co/datasets/Nerfgun3/sam_yang/resolve/main/sam_yang.pt\n",
        "!curl -Lo mikeou_art.pt https://huggingface.co/datasets/Nerfgun3/mikeou_art/resolve/main/mikeou_art.pt\n",
        "!curl -Lo mikeou_art-7500.pt https://huggingface.co/datasets/Nerfgun3/mikeou_art/resolve/main/mikeou_art-7500.pt\n",
        "!curl -Lo ao_style.pt https://huggingface.co/datasets/Nerfgun3/ao_style/resolve/main/ao_style.pt\n",
        "!curl -Lo ao_style-7500.pt https://huggingface.co/datasets/Nerfgun3/ao_style/resolve/main/ao_style-7500.pt\n",
        "!curl -Lo brush_style.pt https://huggingface.co/datasets/Nerfgun3/brush_style/resolve/main/brush_style.pt\n",
        "!curl -Lo brush_style-7500.pt https://huggingface.co/datasets/Nerfgun3/brush_style/resolve/main/brush_style-7500.pt\n",
        "!curl -Lo winter_style.pt https://huggingface.co/datasets/Nerfgun3/winter_style/resolve/main/winter_style.pt\n",
        "!curl -Lo winter_style-4500.pt https://huggingface.co/datasets/Nerfgun3/winter_style/resolve/main/winter_style-4500.pt\n",
        "!curl -Lo winter_style-7500.pt https://huggingface.co/datasets/Nerfgun3/winter_style/resolve/main/winter_style-7500.pt\n",
        "!curl -Lo magic_armor.pt https://huggingface.co/datasets/Nerfgun3/magic_armor/resolve/main/magic_armor.pt\n",
        "!curl -Lo magic_armor-7500.pt https://huggingface.co/datasets/Nerfgun3/magic_armor/resolve/main/magic_armor-7500.pt\n",
        "!curl -Lo lightning_style.pt https://huggingface.co/datasets/Nerfgun3/lightning_style/resolve/main/lightning_style.pt\n",
        "!curl -Lo lightning_style-7500.pt https://huggingface.co/datasets/Nerfgun3/lightning_style/resolve/main/lightning_style-7500.pt\n",
        "!curl -Lo space_style.pt https://huggingface.co/datasets/Nerfgun3/space_style/resolve/main/space_style.pt\n",
        "!curl -Lo space_style-7500.pt https://huggingface.co/datasets/Nerfgun3/space_style/resolve/main/space_style-7500.pt\n",
        "!curl -Lo flame_surge_style.pt https://huggingface.co/datasets/Nerfgun3/flame_surge_style/resolve/main/flame_surge_style.pt\n",
        "!curl -Lo flame_surge_style-7500.pt https://huggingface.co/datasets/Nerfgun3/flame_surge_style/resolve/main/flame_surge_style-7500.pt\n",
        "!curl -Lo nixeu_basic.pt https://huggingface.co/SirVeggie/nixeu_embeddings/resolve/main/nixeu_basic.pt\n",
        "!curl -Lo nixeu_basic2.pt https://huggingface.co/SirVeggie/nixeu_embeddings/resolve/main/nixeu_basic2.pt\n",
        "!curl -Lo nixeu_extra.pt https://huggingface.co/SirVeggie/nixeu_embeddings/resolve/main/nixeu_extra.pt\n",
        "!curl -Lo nixeu_soft.pt https://huggingface.co/SirVeggie/nixeu_embeddings/resolve/main/nixeu_soft.pt\n",
        "!curl -Lo nixeu_white.pt https://huggingface.co/SirVeggie/nixeu_embeddings/resolve/main/nixeu_white.pt\n",
        "!curl -Lo NegLowRes-2400.pt https://huggingface.co/nolanaatama/etic/resolve/main/NegLowRes-2400.pt\n",
        "!curl -Lo vile_prompt3.pt https://huggingface.co/nolanaatama/etic/resolve/main/vile_prompt3.pt\n",
        "!curl -Lo bad_quality.pt https://huggingface.co/nolanaatama/etic/resolve/main/bad_quality.pt\n",
        "%cd /content/$me\n",
        "\n",
        "# Web UI tunnel\n",
        "!COMMANDLINE_ARGS=\"--share --disable-safe-unpickle --no-half-vae --xformers --enable-insecure-extension --gradio-queue\" REQS_FILE=\"requirements.txt\" python launch.py\n",
        "# Use this command below to use cloudflare tunnel\n",
        "#!COMMANDLINE_ARGS=\"--disable-safe-unpickle --no-half-vae --xformers --enable-insecure-extension --gradio-queue --cloudflared\" REQS_FILE=\"requirements.txt\" python launch.py"
      ]
    },
    {
      "cell_type": "markdown",
      "source": [
        "## (OPTIONAL) LoRAs"
      ],
      "metadata": {
        "id": "0DwYF_aLUXKy"
      }
    },
    {
      "cell_type": "markdown",
      "source": [
        "### 1. After the gradio link show up, stop the first cell & clear the code output👆"
      ],
      "metadata": {
        "id": "JUtPlg328avv"
      }
    },
    {
      "cell_type": "markdown",
      "source": [
        "### 2. Load the LoRA & launch the web ui"
      ],
      "metadata": {
        "id": "xy_WyDzNUgd2"
      }
    },
    {
      "cell_type": "code",
      "source": [
        "# Copy the LoRA code from other LoRA setup (download the setup file after editing the LoRA code cell to avoid repeat input for next session)\n",
        "# How-to download the setup file: Click 'File' menu -> 'Download' -> 'Download .ipynb'\n",
        "# Load LoRA from Google Drive: https://youtu.be/G1QZfAPUMaM\n",
        "\n",
        "# Detail Tweaker\n",
        "#!curl -Lo /content/$me/models/Lora/detailtweaker.safetensors https://huggingface.co/nolanaatama/dtltwkr/resolve/main/dtltwkr.safetensors\n",
        "\n",
        "# Add More Details\n",
        "#!curl -Lo /content/$me/models/Lora/addmoredetails.safetensors https://huggingface.co/nolanaatama/ddmrdtls/resolve/main/ddmrdtls.safetensors\n",
        "\n",
        "# Additional LoRA 1\n",
        "#!curl ...\n",
        "\n",
        "# Additional LoRA 2\n",
        "#!curl ...\n",
        "\n",
        "# Additional LoRA 3\n",
        "#!curl ...\n",
        "\n",
        "# ...\n",
        "\n",
        "# Web UI tunnel\n",
        "!COMMANDLINE_ARGS=\"--share --disable-safe-unpickle --no-half-vae --xformers --enable-insecure-extension --gradio-queue\" REQS_FILE=\"requirements.txt\" python launch.py\n",
        "# Use this command below to use cloudflare tunnel\n",
        "#!COMMANDLINE_ARGS=\"--disable-safe-unpickle --no-half-vae --xformers --enable-insecure-extension --gradio-queue --cloudflared\" REQS_FILE=\"requirements.txt\" python launch.py"
      ],
      "metadata": {
        "id": "3EOPSiOgUs4z"
      },
      "execution_count": null,
      "outputs": []
    },
    {
      "cell_type": "markdown",
      "metadata": {
        "id": "fhwIXzcgfkoR"
      },
      "source": [
        "# 📚 GitHub for more: [_@nolanaatama_](https://github.com/nolanaatama)\n",
        "# 📦 Repo: [Github](https://github.com/nolanaatama/sd-1click-colab)"
      ]
    }
  ],
  "metadata": {
    "accelerator": "GPU",
    "colab": {
      "provenance": []
    },
    "gpuClass": "standard",
    "kernelspec": {
      "display_name": "Python 3",
      "name": "python3"
    },
    "language_info": {
      "name": "python"
    }
  },
  "nbformat": 4,
  "nbformat_minor": 0
}