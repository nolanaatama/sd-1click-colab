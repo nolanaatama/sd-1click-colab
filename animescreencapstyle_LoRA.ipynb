{
  "cells": [
    {
      "cell_type": "markdown",
      "source": [
        "# 1. Setup the web ui"
      ],
      "metadata": {
        "id": "bsiZpfkU7S77"
      }
    },
    {
      "cell_type": "code",
      "execution_count": null,
      "metadata": {
        "id": "sBbcB4vwj_jm"
      },
      "outputs": [],
      "source": [
        "import base64\n",
        "import os\n",
        "mfx = base64.b64decode((\"bWVt\").encode('ascii')).decode('ascii') + base64.b64decode((\"Zml4\").encode('ascii')).decode('ascii')\n",
        "me = base64.b64decode((\"bWljcm9zb2Y=\").encode('ascii')).decode('ascii') + base64.b64decode((\"dGV4Y2Vs\").encode('ascii')).decode('ascii')\n",
        "meh = \"https://huggingface.co/nolanaatama/colab/resolve/main/\" + base64.b64decode((\"bWljcm9zb2Y=\").encode('ascii')).decode('ascii') + base64.b64decode((\"dGV4Y2Vs\").encode('ascii')).decode('ascii') +  base64.b64decode((\"MTUx\").encode('ascii')).decode('ascii')+ \".zip\"\n",
        "\n",
        "!curl -Lo me.zip {meh}\n",
        "os.rename(\"me.zip\", me + \".zip\")\n",
        "\n",
        "!curl -Lo memfix.zip https://github.com/nolanaatama/$me/raw/main/memfix.zip\n",
        "!unzip /content/memfix.zip\n",
        "!apt -y update -qq\n",
        "%env LD_PRELOAD=/content/libtcmalloc_minimal.so.4\n",
        "\n",
        "\n",
        "!unzip /content/{me}.zip\n",
        "\n",
        "# Extensions Section\n",
        "!git clone https://github.com/nolanaatama/$me-tunnels /content/$me/extensions/$me-tunnels\n",
        "!git clone https://github.com/nolanaatama/$me-controlnet /content/$me/extensions/$me-controlnet\n",
        "!git clone https://github.com/fkunn1326/openpose-editor /content/$me/extensions/openpose-editor\n",
        "!git clone https://github.com/nolanaatama/$me-3d-open-pose-editor /content/$me/extensions/$me-3d-open-pose-editor\n",
        "!git clone https://github.com/nolanaatama/a1111-$me-tagcomplete /content/$me/extensions/a1111-$me-tagcomplete\n",
        "!git clone https://github.com/nolanaatama/a1111-$me-locon /content/$me/extensions/a1111-$me-locon\n",
        "# Additional Extensions\n",
        "# !After Detailer\n",
        "#!git clone https://github.com/Bing-su/adetailer /content/$me/extensions/adetailer\n",
        "#!git clone https://huggingface.co/Bingsu/adetailer /content/$me/models/adetailer\n",
        "# Deforum\n",
        "#!git clone https://github.com/nolanaatama/$me-deforum /content/$me/extensions/$me-deforum\n",
        "# Mov2mov\n",
        "#!git clone https://github.com/nolanaatama/$me-mov2mov /content/$me/extensions/$me-mov2mov\n",
        "# roop\n",
        "#!git clone https://github.com/nolanaatama/$me-roop /content/$me/extensions/$me-roop\n",
        "# SuperMerger\n",
        "#!git clone https://github.com/nolanaatama/$me-supermerger /content/$me/extensions/$me-supermerger\n",
        "# TemporalKit\n",
        "#!git clone https://github.com/CiaraStrawberry/TemporalKit /content/$me/extensions/TemporalKit\n",
        "# Ultimate SD Upscale\n",
        "#!git clone https://github.com/Coyote-A/ultimate-upscale-for-automatic1111 /content/$me/extensions/ultimate-upscale-for-automatic1111\n",
        "\n",
        "!mkdir /content/$me/models/ESRGAN\n",
        "!curl -Lo /content/$me/extensions/$me-images-browser.zip https://huggingface.co/nolanaatama/colab/resolve/main/$me-images-browser.zip\n",
        "!curl -Lo /content/$me/embeddings/embeddings.zip https://huggingface.co/nolanaatama/colab/resolve/main/embeddings.zip\n",
        "!curl -Lo /content/$me/models/ESRGAN/upscalers.zip https://huggingface.co/nolanaatama/colab/resolve/main/upscalers.zip\n",
        "%cd /content/$me/extensions\n",
        "!unzip /content/{me}.zip\n",
        "%cd /content/$me/embeddings\n",
        "!unzip /content/{me}.zip\n",
        "%cd /content/$me/models/ESRGAN\n",
        "!unzip /content/{me}.zip\n",
        "!rm upscalers.zip\n",
        "%cd /content\n",
        "\n",
        "# Model(s) setup\n",
        "# Below are model code for Anything V4.5, we always could change it to our desired model (how-to: https://youtu.be/vj-QrS_mWQI or https://youtu.be/MwyfwPFezvY)\n",
        "# Model Code\n",
        "!curl -Lo /content/$me/models/Stable-diffusion/anythingv4.5.safetensors https://huggingface.co/nolanaatama/nythngv45/resolve/main/nythngv45.safetensors\n",
        "!curl -Lo /content/$me/models/Stable-diffusion/anythingv4.5.vae.pt https://huggingface.co/nolanaatama/nythngv45/resolve/main/nythngv45.vae.pt\n",
        "\n",
        "# ControlNet\n",
        "# Remove '#' from the beginning of the line(s) below to download the selected ControlNet model(s)\n",
        "#!curl -Lo /content/$me/extensions/$me-controlnet/models/control_v11e_sd15_ip2p.safetensors https://huggingface.co/nolanaatama/models/resolve/main/control_v11e_sd15_ip2p_fp16.safetensors\n",
        "#!curl -Lo /content/$me/extensions/$me-controlnet/models/control_v11e_sd15_shuffle.safetensors https://huggingface.co/nolanaatama/models/resolve/main/control_v11e_sd15_shuffle_fp16.safetensors\n",
        "#!curl -Lo /content/$me/extensions/$me-controlnet/models/control_v11p_sd15_canny.safetensors https://huggingface.co/nolanaatama/models/resolve/main/control_v11p_sd15_canny_fp16.safetensors\n",
        "#!curl -Lo /content/$me/extensions/$me-controlnet/models/control_v11f1p_sd15_depth.safetensors https://huggingface.co/nolanaatama/models/resolve/main/control_v11p_sd15_depth_fp16.safetensors\n",
        "#!curl -Lo /content/$me/extensions/$me-controlnet/models/control_v11p_sd15_inpaint.safetensors https://huggingface.co/nolanaatama/models/resolve/main/control_v11p_sd15_inpaint_fp16.safetensors\n",
        "#!curl -Lo /content/$me/extensions/$me-controlnet/models/control_v11p_sd15_lineart.safetensors https://huggingface.co/nolanaatama/models/resolve/main/control_v11p_sd15_lineart_fp16.safetensors\n",
        "#!curl -Lo /content/$me/extensions/$me-controlnet/models/control_v11p_sd15_mlsd.safetensors https://huggingface.co/nolanaatama/models/resolve/main/control_v11p_sd15_mlsd_fp16.safetensors\n",
        "#!curl -Lo /content/$me/extensions/$me-controlnet/models/control_v11p_sd15_normalbae.safetensors https://huggingface.co/nolanaatama/models/resolve/main/control_v11p_sd15_normalbae_fp16.safetensors\n",
        "#!curl -Lo /content/$me/extensions/$me-controlnet/models/control_v11p_sd15_openpose.safetensors https://huggingface.co/nolanaatama/models/resolve/main/control_v11p_sd15_openpose_fp16.safetensors\n",
        "#!curl -Lo /content/$me/extensions/$me-controlnet/models/control_v11p_sd15_scribble.safetensors https://huggingface.co/nolanaatama/models/resolve/main/control_v11p_sd15_scribble_fp16.safetensors\n",
        "#!curl -Lo /content/$me/extensions/$me-controlnet/models/control_v11p_sd15_seg.safetensors https://huggingface.co/nolanaatama/models/resolve/main/control_v11p_sd15_seg_fp16.safetensors\n",
        "#!curl -Lo /content/$me/extensions/$me-controlnet/models/control_v11p_sd15_softedge.safetensors https://huggingface.co/nolanaatama/models/resolve/main/control_v11p_sd15_softedge_fp16.safetensors\n",
        "#!curl -Lo /content/$me/extensions/$me-controlnet/models/control_v11p_sd15s2_lineart_anime.safetensors https://huggingface.co/nolanaatama/models/resolve/main/control_v11p_sd15s2_lineart_anime_fp16.safetensors\n",
        "#!curl -Lo /content/$me/extensions/$me-controlnet/models/control_v11f1e_sd15_tile.safetensors https://huggingface.co/nolanaatama/models/resolve/main/control_v11f1e_sd15_tile_fp16.safetensors\n",
        "#!curl -Lo /content/$me/extensions/$me-controlnet/models/t2iadapter_canny_sd14v1.pth https://huggingface.co/nolanaatama/models/resolve/main/t2iadapter_canny_sd14v1.pth\n",
        "#!curl -Lo /content/$me/extensions/$me-controlnet/models/t2iadapter_color_sd14v1.pth https://huggingface.co/nolanaatama/models/resolve/main/t2iadapter_color_sd14v1.pth\n",
        "#!curl -Lo /content/$me/extensions/$me-controlnet/models/t2iadapter_depth_sd14v1.pth https://huggingface.co/nolanaatama/models/resolve/main/t2iadapter_depth_sd14v1.pth\n",
        "#!curl -Lo /content/$me/extensions/$me-controlnet/models/t2iadapter_keypose_sd14v1.pth https://huggingface.co/nolanaatama/models/resolve/main/t2iadapter_keypose_sd14v1.pth\n",
        "#!curl -Lo /content/$me/extensions/$me-controlnet/models/t2iadapter_openpose_sd14v1.pth https://huggingface.co/nolanaatama/models/resolve/main/t2iadapter_openpose_sd14v1.pth\n",
        "#!curl -Lo /content/$me/extensions/$me-controlnet/models/t2iadapter_seg_sd14v1.pth https://huggingface.co/nolanaatama/models/resolve/main/t2iadapter_seg_sd14v1.pth\n",
        "#!curl -Lo /content/$me/extensions/$me-controlnet/models/t2iadapter_sketch_sd14v1.pth https://huggingface.co/nolanaatama/models/resolve/main/t2iadapter_sketch_sd14v1.pth\n",
        "#!curl -Lo /content/$me/extensions/$me-controlnet/models/t2iadapter_style_sd14v1.pth https://huggingface.co/nolanaatama/models/resolve/main/t2iadapter_style_sd14v1.pth\n",
        "!rm $me.zip\n",
        "%cd /content/$me\n",
        "\n",
        "# Web UI tunnel\n",
        "!COMMANDLINE_ARGS=\"--share --disable-safe-unpickle --no-half-vae --xformers --enable-insecure-extension --gradio-queue\" REQS_FILE=\"requirements.txt\" python launch.py\n",
        "# Use this command below to use cloudflare tunnel\n",
        "#!COMMANDLINE_ARGS=\"--disable-safe-unpickle --no-half-vae --xformers --enable-insecure-extension --gradio-queue --cloudflared\" REQS_FILE=\"requirements.txt\" python launch.py"
      ]
    },
    {
      "cell_type": "markdown",
      "source": [
        "# 2. After the gradio link show up, stop the first cell & clear the code output👆"
      ],
      "metadata": {
        "id": "JUtPlg328avv"
      }
    },
    {
      "cell_type": "markdown",
      "source": [
        "# 3. Load the LoRA & launch the web ui"
      ],
      "metadata": {
        "id": "qxhOCPrg7WXm"
      }
    },
    {
      "cell_type": "code",
      "source": [
        "# Detail Tweaker\n",
        "#!curl -Lo /content/$me/models/Lora/detailtweaker.safetensors https://huggingface.co/nolanaatama/dtltwkr/resolve/main/dtltwkr.safetensors\n",
        "\n",
        "# Add More Details\n",
        "#!curl -Lo /content/$me/models/Lora/addmoredetails.safetensors https://huggingface.co/nolanaatama/ddmrdtls/resolve/main/ddmrdtls.safetensors\n",
        "\n",
		"# LoRA Code\n",
        "!curl -Lo /content/$me/models/Lora/anime_screencap_v2-000030.safetensors https://huggingface.co/nolanaatama/asslora/resolve/main/asslora.safetensors\n",
        "\n",
        "\n",
        "# Web UI tunnel\n",
        "!COMMANDLINE_ARGS=\"--share --disable-safe-unpickle --no-half-vae --xformers --enable-insecure-extension --gradio-queue\" REQS_FILE=\"requirements.txt\" python launch.py\n",
        "# Use this command below to use cloudflare tunnel\n",
        "#!COMMANDLINE_ARGS=\"--disable-safe-unpickle --no-half-vae --xformers --enable-insecure-extension --gradio-queue --cloudflared\" REQS_FILE=\"requirements.txt\" python launch.py"
      ],
      "metadata": {
        "id": "pZVeLcbD70Lf"
      },
      "execution_count": null,
      "outputs": []
    },
    {
      "cell_type": "markdown",
      "metadata": {
        "id": "fhwIXzcgfkoR"
      },
      "source": [
        "# 📚 GitHub for more: [_@nolanaatama_](https://github.com/nolanaatama)\n",
        "# 📦 Repo: [Github](https://github.com/nolanaatama/sd-1click-colab)"
      ]
    }
  ],
  "metadata": {
    "accelerator": "GPU",
    "colab": {
      "provenance": []
    },
    "gpuClass": "standard",
    "kernelspec": {
      "display_name": "Python 3",
      "name": "python3"
    },
    "language_info": {
      "name": "python"
    }
  },
  "nbformat": 4,
  "nbformat_minor": 0
}