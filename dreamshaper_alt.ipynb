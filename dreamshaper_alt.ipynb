{
  "nbformat": 4,
  "nbformat_minor": 0,
  "metadata": {
    "colab": {
      "provenance": []
    },
    "kernelspec": {
      "name": "python3",
      "display_name": "Python 3"
    },
    "language_info": {
      "name": "python"
    },
    "accelerator": "GPU",
    "gpuClass": "standard"
  },
  "cells": [
    {
      "cell_type": "markdown",
      "source": [
        "# 1. Setup the web ui"
      ],
      "metadata": {
        "id": "RdNxwP2_sKmm"
      }
    },
    {
      "cell_type": "code",
      "source": [
        "!git clone https://github.com/AUTOMATIC1111/stable-diffusion-webui\n",
        "!git clone https://github.com/yfszzx/stable-diffusion-webui-images-browser /content/stable-diffusion-webui/extensions/stable-diffusion-webui-images-browser\n",
        "!git clone https://github.com/kohya-ss/sd-webui-additional-networks /content/stable-diffusion-webui/extensions/sd-webui-additional-networks\n",
        "%pip install -q https://github.com/nolanaatama/sd-webui/releases/download/xformers/xformers-0.0.15+e163309.d20230103-cp38-cp38-linux_x86_64.whl\n",
        "!curl -Lo dreamshaper3.32bvcf.ckpt https://huggingface.co/Lykon/DreamShaper/resolve/main/Dreamshaper_3.32_baked_vae_clip_fix.ckpt\n",
        "!mv \"/content/dreamshaper3.32bvcf.ckpt\" \"/content/stable-diffusion-webui/models/Stable-diffusion\"\n",
        "!curl -Lo bad-image-v2-39000.pt https://huggingface.co/nolanaatama/etic/resolve/main/bad-image-v2-39000.pt\n",
        "!curl -Lo bad_prompt.pt https://huggingface.co/datasets/Nerfgun3/bad_prompt/resolve/main/bad_prompt.pt\n",
        "!curl -Lo bad_prompt_version2.pt https://huggingface.co/datasets/Nerfgun3/bad_prompt/resolve/main/bad_prompt_version2.pt\n",
        "!curl -Lo bad-artist.pt https://huggingface.co/nick-x-hacker/bad-artist/resolve/main/bad-artist.pt\n",
        "!curl -Lo bad-artist-anime.pt https://huggingface.co/nick-x-hacker/bad-artist/resolve/main/bad-artist-anime.pt\n",
        "!mv \"/content/bad-image-v2-39000.pt\" \"/content/stable-diffusion-webui/embeddings\"\n",
        "!mv \"/content/bad_prompt.pt\" \"/content/stable-diffusion-webui/embeddings\"\n",
        "!mv \"/content/bad_prompt_version2.pt\" \"/content/stable-diffusion-webui/embeddings\"\n",
        "!mv \"/content/bad-artist.pt\" \"/content/stable-diffusion-webui/embeddings\"\n",
        "!mv \"/content/bad-artist-anime.pt\" \"/content/stable-diffusion-webui/embeddings\"\n",
        "%cd /content/stable-diffusion-webui/extensions/sd-webui-additional-networks\n",
        "!git checkout ac705ce\n",
        "%cd /content/stable-diffusion-webui\n",
        "!git checkout 4af3ca5\n",
        "!COMMANDLINE_ARGS=\"--share --gradio-debug --medvram --disable-safe-unpickle --xformers\" REQS_FILE=\"requirements.txt\" python launch.py"
      ],
      "metadata": {
        "id": "sBbcB4vwj_jm"
      },
      "execution_count": null,
      "outputs": []
    },
    {
      "cell_type": "markdown",
      "source": [
        "# 2. After the gradio link show up, stop the first cell & clear the code output👆"
      ],
      "metadata": {
        "id": "q_a60l6bsIhk"
      }
    },
    {
      "cell_type": "markdown",
      "source": [
        "# 3. Load the LoRA & launch the web ui"
      ],
      "metadata": {
        "id": "TdUm1rfosPHL"
      }
    },
    {
      "cell_type": "code",
      "source": [
        "!curl -Lo wanostyle_2.safetensors https://huggingface.co/nolanaatama/opwslora/resolve/main/onePieceWanoStyle_20.safetensors\n",
        "!curl -Lo last.pt https://huggingface.co/closertodeath/dpepmkmp/resolve/main/last.pt\n",
        "!curl -Lo anime_screencap_v2-000030.safetensors https://huggingface.co/nolanaatama/asslora/resolve/main/asslora.safetensors\n",
        "!mv \"/content/stable-diffusion-webui/wanostyle_2.safetensors\" \"/content/stable-diffusion-webui/extensions/sd-webui-additional-networks/models/LoRA\"\n",
        "!mv \"/content/stable-diffusion-webui/last.pt\" \"/content/stable-diffusion-webui/extensions/sd-webui-additional-networks/models/LoRA\"\n",
        "!mv \"/content/stable-diffusion-webui/anime_screencap_v2-000030.safetensors\" \"/content/stable-diffusion-webui/extensions/sd-webui-additional-networks/models/LoRA\"\n",
        "!COMMANDLINE_ARGS=\"--share --gradio-debug --medvram --disable-safe-unpickle --xformers\" REQS_FILE=\"requirements.txt\" python launch.py"
      ],
      "metadata": {
        "id": "QX_G50CdsR1O"
      },
      "execution_count": null,
      "outputs": []
    },
    {
      "cell_type": "markdown",
      "metadata": {
        "id": "fhwIXzcgfkoR"
      },
      "source": [
        "# 📚 GitHub for more: [_@nolanaatama_](https://github.com/nolanaatama)\n",
        "# 📦 Repo: [Github](https://github.com/nolanaatama/sd-1click-colab)"
      ]
    }
  ]
}