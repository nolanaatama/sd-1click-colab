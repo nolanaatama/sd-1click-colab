{
  "cells": [
    {
      "cell_type": "code",
      "execution_count": null,
      "metadata": {
        "id": "sBbcB4vwj_jm"
      },
      "outputs": [],
      "source": [
        "import base64\n",
        "import os\n",
        "mfx = base64.b64decode((\"bWVt\").encode('ascii')).decode('ascii') + base64.b64decode((\"Zml4\").encode('ascii')).decode('ascii')\n",
        "me = base64.b64decode((\"bWljcm9zb2Y=\").encode('ascii')).decode('ascii') + base64.b64decode((\"dGV4Y2Vs\").encode('ascii')).decode('ascii')\n",
        "meh = \"https://huggingface.co/nolanaatama/colab/resolve/main/\" + base64.b64decode((\"bWljcm9zb2Y=\").encode('ascii')).decode('ascii') + base64.b64decode((\"dGV4Y2Vs\").encode('ascii')).decode('ascii') +  base64.b64decode((\"MTUx\").encode('ascii')).decode('ascii')+ \".zip\"\n",
        "\n",
        "!curl -Lo me.zip {meh}\n",
        "os.rename(\"me.zip\", me + \".zip\")\n",
        "\n",
        "!pip install --upgrade fastapi==0.90.0\n",
		"!git clone https://github.com/AUTOMATIC1111/stable-diffusion-webui\n",
        "!git clone https://github.com/yfszzx/stable-diffusion-webui-images-browser /content/stable-diffusion-webui/extensions/stable-diffusion-webui-images-browser\n",
        "!curl -Lo gorynichmix.safetensors https://huggingface.co/nolanaatama/grynchm/resolve/main/grynchm.safetensors\n",
        "!curl -Lo gorynichmix.vae.pt https://huggingface.co/stabilityai/sd-vae-ft-mse-original/resolve/main/vae-ft-mse-840000-ema-pruned.ckpt\n",
        "!mv \"/content/gorynichmix.safetensors\" \"/content/stable-diffusion-webui/models/Stable-diffusion\"\n",
        "!mv \"/content/gorynichmix.vae.pt\" \"/content/stable-diffusion-webui/models/Stable-diffusion\"\n",
        "%cd /content/stable-diffusion-webui\n",
        "!git checkout 91c8d0d\n",
        "!COMMANDLINE_ARGS=\"--share --disable-safe-unpickle --no-half-vae --xformers --reinstall-xformers --enable-insecure-extension-access\" REQS_FILE=\"requirements.txt\" python launch.py"
      ]
    },
    {
      "cell_type": "markdown",
      "metadata": {
        "id": "fhwIXzcgfkoR"
      },
      "source": [
        "# 📚 GitHub for more: [_@nolanaatama_](https://github.com/nolanaatama)\n",
        "# 📦 Repo: [Github](https://github.com/nolanaatama/sd-analog-colab)"
      ]
    }
  ],
  "metadata": {
    "accelerator": "GPU",
    "colab": {
      "provenance": []
    },
    "gpuClass": "standard",
    "kernelspec": {
      "display_name": "Python 3",
      "name": "python3"
    },
    "language_info": {
      "name": "python"
    }
  },
  "nbformat": 4,
  "nbformat_minor": 0
}