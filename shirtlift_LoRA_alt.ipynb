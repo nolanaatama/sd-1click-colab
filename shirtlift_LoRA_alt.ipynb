{
  "nbformat": 4,
  "nbformat_minor": 0,
  "metadata": {
    "colab": {
      "provenance": []
    },
    "kernelspec": {
      "name": "python3",
      "display_name": "Python 3"
    },
    "language_info": {
      "name": "python"
    },
    "accelerator": "GPU",
    "gpuClass": "standard"
  },
  "cells": [
    {
      "cell_type": "markdown",
      "source": [
        "# 1. Setup the web ui"
      ],
      "metadata": {
        "id": "RdNxwP2_sKmm"
      }
    },
    {
      "cell_type": "code",
      "source": [
        "!pip install --upgrade fastapi==0.90.0\n",
        "!git clone https://github.com/AUTOMATIC1111/stable-diffusion-webui\n",
        "!git clone https://github.com/yfszzx/stable-diffusion-webui-images-browser /content/stable-diffusion-webui/extensions/stable-diffusion-webui-images-browser\n",
        "!git clone https://github.com/kohya-ss/sd-webui-additional-networks /content/stable-diffusion-webui/extensions/sd-webui-additional-networks\n",
        "%pip install -q https://github.com/nolanaatama/sd-webui/releases/download/xformers/xformers-0.0.15+e163309.d20230103-cp38-cp38-linux_x86_64.whl\n",
        "\n",
        "# Model(s) setup\n",
        "# Below are model code for Liberty, we always could change it to our desired model (how-to: https://youtu.be/vj-QrS_mWQI or https://youtu.be/MwyfwPFezvY)\n",
        "!curl -Lo liberty.safetensors https://huggingface.co/nolanaatama/lbrty/resolve/main/lbrty.safetensors\n",
        "!mv \"/content/liberty.safetensors\" \"/content/stable-diffusion-webui/models/Stable-diffusion\"\n",
        "\n",
        "%cd /content/stable-diffusion-webui/extensions/sd-webui-additional-networks\n",
        "!git checkout ac705ce\n",
        "%cd /content/stable-diffusion-webui\n",
        "!git checkout 4af3ca5\n",
        "!COMMANDLINE_ARGS=\"--share --gradio-debug --medvram --disable-safe-unpickle --xformers\" REQS_FILE=\"requirements.txt\" python launch.py"
      ],
      "metadata": {
        "id": "sBbcB4vwj_jm"
      },
      "execution_count": null,
      "outputs": []
    },
    {
      "cell_type": "markdown",
      "source": [
        "# 2. After the gradio link show up, stop the first cell & clear the code output\u0440\u045f\u2018\u2020"
      ],
      "metadata": {
        "id": "q_a60l6bsIhk"
      }
    },
    {
      "cell_type": "markdown",
      "source": [
        "# 3. Load the LoRA & launch the web ui"
      ],
      "metadata": {
        "id": "TdUm1rfosPHL"
      }
    },
    {
      "cell_type": "code",
      "source": [
        "!curl -Lo shirtlift.safetensors https://huggingface.co/nolanaatama/shrtlftlora/resolve/main/shrtlftlora.safetensors\n",
        "!mv \"/content/stable-diffusion-webui/shirtlift.safetensors\" \"/content/stable-diffusion-webui/extensions/sd-webui-additional-networks/models/LoRA\"\n",
        "!COMMANDLINE_ARGS=\"--share --gradio-debug --medvram --disable-safe-unpickle --xformers\" REQS_FILE=\"requirements.txt\" python launch.py"
      ],
      "metadata": {
        "id": "QX_G50CdsR1O"
      },
      "execution_count": null,
      "outputs": []
    },
    {
      "cell_type": "markdown",
      "metadata": {
        "id": "fhwIXzcgfkoR"
      },
      "source": [
        "# \ud83d\udcda GitHub for more: [_@nolanaatama_](https://github.com/nolanaatama)\n",
        "# \ud83d\udce6 Repo: [Github](https://github.com/nolanaatama/sd-1click-colab/tree/alternative-setup)\n",
        "# \ud83d\udd17 Open: [Google Colab](https://colab.research.google.com/github/nolanaatama/sd-1click-colab/blob/alternative-setup/shirtlift_LoRA_alt.ipynb)"
      ]
    }
  ]
}