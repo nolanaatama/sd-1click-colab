{
  "nbformat": 4,
  "nbformat_minor": 0,
  "metadata": {
    "colab": {
      "provenance": []
    },
    "kernelspec": {
      "name": "python3",
      "display_name": "Python 3"
    },
    "language_info": {
      "name": "python"
    },
    "accelerator": "GPU",
    "gpuClass": "standard"
  },
  "cells": [
    {
      "cell_type": "code",
      "source": [
        "!pip install --upgrade fastapi==0.90.0\n",
        "!git clone https://github.com/AUTOMATIC1111/stable-diffusion-webui\n",
        "!git clone https://github.com/yfszzx/stable-diffusion-webui-images-browser /content/stable-diffusion-webui/extensions/stable-diffusion-webui-images-browser\n",
        "!curl -Lo sd2.0.ckpt https://huggingface.co/stabilityai/stable-diffusion-2/resolve/main/768-v-ema.ckpt\n",
        "!curl -Lo sd2.0.yaml https://raw.githubusercontent.com/Stability-AI/stablediffusion/main/configs/stable-diffusion/v2-inference-v.yaml\n",
        "!mv \"/content/sd2.0.ckpt\" \"/content/stable-diffusion-webui/models/Stable-diffusion\"\n",
        "!mv \"/content/sd2.0.yaml\" \"/content/stable-diffusion-webui/models/Stable-diffusion\"\n",
        "%cd /content/stable-diffusion-webui\n",
        "!git checkout 91c8d0d\n",
        "!sed -i -e '''/prepare_environment()/a\\    os.system\\(f\\\"\"\"sed -i -e ''\\\"s/self.logvar\\\\[t\\\\]/self.logvar\\\\[t.item()\\\\]/g\\\"'' /content/stable-diffusion-webui/repositories/stable-diffusion-stability-ai/ldm/models/diffusion/ddpm.py\"\"\")''' /content/stable-diffusion-webui/launch.py\n",
        "!sed -i -e '''/prepare_environment()/a\\    os.system\\(f\\\"\"\"sed -i -e ''\\\"s/dict()))/dict())).cuda()/g\\\"'' /content/stable-diffusion-webui/repositories/stable-diffusion-stability-ai/ldm/util.py\"\"\")''' /content/stable-diffusion-webui/launch.py\n",
        "!COMMANDLINE_ARGS=\"--share --disable-safe-unpickle --no-half-vae --xformers --reinstall-xformers --enable-insecure-extension-access\" REQS_FILE=\"requirements.txt\" python launch.py"
      ],
      "metadata": {
        "id": "2YU73dRwTffj"
      },
      "execution_count": null,
      "outputs": []
    },
    {
      "cell_type": "markdown",
      "metadata": {
        "id": "fhwIXzcgfkoR"
      },
      "source": [
        "# \ud83d\udcda GitHub for more: [_@nolanaatama_](https://github.com/nolanaatama)\n",
        "# \ud83d\udce6 Repo: [Github](https://github.com/nolanaatama/sd-1click-colab/tree/alternative-setup)\n",
        "# \ud83d\udd17 Open: [Google Colab](https://colab.research.google.com/github/nolanaatama/sd-1click-colab/blob/alternative-setup/sd2.0.ipynb)"
      ]
    }
  ]
}