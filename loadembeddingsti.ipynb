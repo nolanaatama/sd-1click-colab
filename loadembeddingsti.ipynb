{
  "cells": [
    {
      "cell_type": "markdown",
      "source": [
        "# 1. Mount our Google Drive"
      ],
      "metadata": {
        "id": "k0RucGsXq75K"
      }
    },
    {
      "cell_type": "code",
      "source": [
        "from google.colab import drive\n",
        "drive.mount('/content/drive')"
      ],
      "metadata": {
        "id": "9S8FGAiSCm-1"
      },
      "execution_count": null,
      "outputs": []
    },
    {
      "cell_type": "markdown",
      "source": [
        "# 2. Install AUTOMATIC1111 web ui"
      ],
      "metadata": {
        "id": "Ot1k1iRX3U63"
      }
    },
    {
      "cell_type": "code",
      "source": [
        "!curl -Lo memfix.zip https://github.com/nolanaatama/sd-webui/raw/main/memfix.zip\n",
        "!unzip /content/memfix.zip\n",
        "!apt install -qq libunwind8-dev\n",
        "!dpkg -i *.deb\n",
        "%env LD_PRELOAD=libtcmalloc.so\n",
        "!rm *\n",
        "!pip install --upgrade fastapi==0.90.1\n",
        "!git clone https://github.com/AUTOMATIC1111/stable-diffusion-webui\n",
        "!git clone https://github.com/nolanaatama/sd-webui-tunnels /content/stable-diffusion-webui/extensions/sd-webui-tunnels\n",
        "!git clone https://github.com/Mikubill/sd-webui-controlnet /content/stable-diffusion-webui/extensions/sd-webui-controlnet\n",
        "!git clone https://github.com/fkunn1326/openpose-editor /content/stable-diffusion-webui/extensions/openpose-editor\n",
        "!git clone https://github.com/yfszzx/stable-diffusion-webui-images-browser /content/stable-diffusion-webui/extensions/stable-diffusion-webui-images-browser\n",
        "!git clone https://github.com/DominikDoom/a1111-sd-webui-tagcomplete /content/stable-diffusion-webui/extensions/a1111-sd-webui-tagcomplete"
      ],
      "metadata": {
        "id": "H6lLF1he3cIF"
      },
      "execution_count": null,
      "outputs": []
    },
    {
      "cell_type": "markdown",
      "source": [
        "# 3. Load our model(s)"
      ],
      "metadata": {
        "id": "sWvJQj9eq7Gd"
      }
    },
    {
      "cell_type": "markdown",
      "source": [
        "OPTION 1: using model code (how-to video: https://youtu.be/vj-QrS_mWQI)"
      ],
      "metadata": {
        "id": "t3h7h9Cj3fyT"
      }
    },
    {
      "cell_type": "code",
      "execution_count": null,
      "metadata": {
        "id": "sBbcB4vwj_jm"
      },
      "outputs": [],
      "source": [
        "# Change the model code below to our desired model(s), below are model code for Anygen x3.7\n",
        "!curl -Lo anygenv3.7.ckpt https://huggingface.co/nolanaatama/Anygen_v3.7/resolve/main/anygenz5.6.ckpt\n",
        "!curl -Lo anygenv3.7.vae.pt https://huggingface.co/nolanaatama/Anygen_v3.7/resolve/main/anygenz5.6.vae.pt\n",
        "!mv \"/content/anygenv3.7.ckpt\" \"/content/stable-diffusion-webui/models/Stable-diffusion\"\n",
        "!mv \"/content/anygenv3.7.vae.pt\" \"/content/stable-diffusion-webui/models/Stable-diffusion\"\n",
        "\n",
        "# model 2\n",
        "# !curl ...\n",
        "# !mv ...\n",
        "\n",
        "# model 3\n",
        "# !curl ...\n",
        "# !mv ..."
      ]
    },
    {
      "cell_type": "markdown",
      "source": [
        "OPTION 2: load model from Google Drive (how-to video: https://youtu.be/MwyfwPFezvY)"
      ],
      "metadata": {
        "id": "BZ8SPjKi3qUs"
      }
    },
    {
      "cell_type": "code",
      "source": [
        "# Change the file path below with our model path\n",
        "\n",
        "!cp \"/content/drive/MyDrive/mymodel/OURMODELNAME1.ckpt\" \"/content/stable-diffusion-webui/models/Stable-diffusion\"\n",
        "\n",
        "# remove '#' from the beginning of these lines below and change the file path if we want to load more than one model\n",
        "# !cp \"/content/drive/MyDrive/mymodel/OURMODELNAME2.ckpt\" \"/content/stable-diffusion-webui/models/Stable-diffusion\"\n",
        "# !cp \"/content/drive/MyDrive/mymodel/OURMODELNAME3.ckpt\" \"/content/stable-diffusion-webui/models/Stable-diffusion\""
      ],
      "metadata": {
        "id": "bS81tISi4CRm"
      },
      "execution_count": null,
      "outputs": []
    },
    {
      "cell_type": "markdown",
      "source": [
        "# 3. Load our embeddings/textual inversions"
      ],
      "metadata": {
        "id": "lc5jJV9crd4C"
      }
    },
    {
      "cell_type": "markdown",
      "source": [
        "OPTION 1: choose individual emdeddings/textual inversion"
      ],
      "metadata": {
        "id": "OJx4QIQosMMq"
      }
    },
    {
      "cell_type": "code",
      "source": [
        "# Change the file path to our embeddings/textual inversion file path.\n",
        "# Remove the '#' from the beginning of the other lines to load additional files.\n",
        "\n",
        "!cp \"/content/drive/MyDrive/our_embeddings_textualinversion/OUREMBEDDINGTEXTUALINVERSION1.pt\" \"/content/stable-diffusion-webui/embeddings\"\n",
        "#!cp \"/content/drive/MyDrive/our_embeddings_textualinversion/OUREMBEDDINGTEXTUALINVERSION2.pt\" \"/content/stable-diffusion-webui/embeddings\"\n",
        "#!cp \"/content/drive/MyDrive/our_embeddings_textualinversion/OUREMBEDDINGTEXTUALINVERSION3.pt\" \"/content/stable-diffusion-webui/embeddings\"\n",
        "#!cp \"/content/drive/MyDrive/our_embeddings_textualinversion/OUREMBEDDINGTEXTUALINVERSION4.pt\" \"/content/stable-diffusion-webui/embeddings\"\n",
        "#!cp \"/content/drive/MyDrive/our_embeddings_textualinversion/OUREMBEDDINGTEXTUALINVERSION5.pt\" \"/content/stable-diffusion-webui/embeddings\"\n",
        "#!cp \"/content/drive/MyDrive/our_embeddings_textualinversion/OUREMBEDDINGTEXTUALINVERSION6.pt\" \"/content/stable-diffusion-webui/embeddings\"\n",
        "#!cp \"/content/drive/MyDrive/our_embeddings_textualinversion/OUREMBEDDINGTEXTUALINVERSION7.pt\" \"/content/stable-diffusion-webui/embeddings\"\n",
        "#!cp \"/content/drive/MyDrive/our_embeddings_textualinversion/OUREMBEDDINGTEXTUALINVERSION8.pt\" \"/content/stable-diffusion-webui/embeddings\"\n",
        "# ...."
      ],
      "metadata": {
        "id": "1E0f1kMTrGJ0"
      },
      "execution_count": null,
      "outputs": []
    },
    {
      "cell_type": "markdown",
      "source": [
        "OPTION 2: copy all embeddings/textual inversion file from google drive folder"
      ],
      "metadata": {
        "id": "47CPtGUfsar8"
      }
    },
    {
      "cell_type": "code",
      "source": [
        "# Remove the '#' from the '!cp -r ...' line and change the file path to our embeddings/textual inversion folder path.\n",
        "# The embeddings/textual inversion folder path must be ended with '/.' like '/folder/subfolder/.'\n",
        "\n",
        "#!cp -r '/content/drive/MyDrive/our_embeddings_textualinversion1/.' '/content/stable-diffusion-webui/embeddings'\n",
        "#!cp -r '/content/drive/MyDrive/our_embeddings_textualinversion2/.' '/content/stable-diffusion-webui/embeddings'\n",
        "#!cp -r '/content/drive/MyDrive/our_embeddings_textualinversion3/.' '/content/stable-diffusion-webui/embeddings'"
      ],
      "metadata": {
        "id": "dKmIwc3lsYR6"
      },
      "execution_count": null,
      "outputs": []
    },
    {
      "cell_type": "markdown",
      "source": [
        "# 4. Launch the web ui"
      ],
      "metadata": {
        "id": "6iCWJMUErmVa"
      }
    },
    {
      "cell_type": "code",
      "source": [
        "# ControlNet\n",
        "!curl -Lo /content/stable-diffusion-webui/extensions/sd-webui-controlnet/models/control_canny.safetensors https://huggingface.co/webui/ControlNet-modules-safetensors/resolve/main/control_canny-fp16.safetensors\n",
        "!curl -Lo /content/stable-diffusion-webui/extensions/sd-webui-controlnet/models/control_depth.safetensors https://huggingface.co/webui/ControlNet-modules-safetensors/resolve/main/control_depth-fp16.safetensors\n",
        "!curl -Lo /content/stable-diffusion-webui/extensions/sd-webui-controlnet/models/control_hed-fp16.safetensors https://huggingface.co/webui/ControlNet-modules-safetensors/resolve/main/control_hed-fp16.safetensors\n",
        "!curl -Lo /content/stable-diffusion-webui/extensions/sd-webui-controlnet/models/control_mlsd-fp16.safetensors https://huggingface.co/webui/ControlNet-modules-safetensors/resolve/main/control_mlsd-fp16.safetensors\n",
        "!curl -Lo /content/stable-diffusion-webui/extensions/sd-webui-controlnet/models/control_normal-fp16.safetensors https://huggingface.co/webui/ControlNet-modules-safetensors/resolve/main/control_normal-fp16.safetensors\n",
        "!curl -Lo /content/stable-diffusion-webui/extensions/sd-webui-controlnet/models/control_openpose-fp16.safetensors https://huggingface.co/webui/ControlNet-modules-safetensors/resolve/main/control_openpose-fp16.safetensors\n",
        "!curl -Lo /content/stable-diffusion-webui/extensions/sd-webui-controlnet/models/control_scribble-fp16.safetensors https://huggingface.co/webui/ControlNet-modules-safetensors/resolve/main/control_scribble-fp16.safetensors\n",
        "!curl -Lo /content/stable-diffusion-webui/extensions/sd-webui-controlnet/models/control_seg-fp16.safetensors https://huggingface.co/webui/ControlNet-modules-safetensors/resolve/main/control_seg-fp16.safetensors\n",
        "import shutil\n",
        "shutil.rmtree('/content/stable-diffusion-webui/embeddings')\n",
        "%cd /content/stable-diffusion-webui\n",
        "!git checkout 0cc0ee1\n",
        "!git clone https://huggingface.co/nolanaatama/embeddings\n",
        "# Web UI tunnel (use cloudflare by default)\n",
        "!COMMANDLINE_ARGS=\"--disable-safe-unpickle --no-half-vae --xformers --reinstall-xformers --enable-insecure-extension- --gradio-queue --cloudflared\" REQS_FILE=\"requirements.txt\" python launch.py\n",
        "# Change '--cloudflared' to '--share' on the COMMANDLINE_ARGS line above to use gradio tunnel\n",
        "# Change '--cloudflared' to '--localhostrun' to use localhost.run tunnel\n",
        "# Change '--cloudflared' to '--remotemoe' to use remotemoe tunnel"
      ],
      "metadata": {
        "id": "z5VT7rKtrcFy"
      },
      "execution_count": null,
      "outputs": []
    },
    {
      "cell_type": "markdown",
      "metadata": {
        "id": "fhwIXzcgfkoR"
      },
      "source": [
        "# 📚 GitHub for more: [_@nolanaatama_](https://github.com/nolanaatama)\n",
        "# 📦 Repo: [Github](https://github.com/nolanaatama/sd-misc-colab)"
      ]
    }
  ],
  "metadata": {
    "accelerator": "GPU",
    "colab": {
      "provenance": []
    },
    "gpuClass": "standard",
    "kernelspec": {
      "display_name": "Python 3",
      "name": "python3"
    },
    "language_info": {
      "name": "python"
    }
  },
  "nbformat": 4,
  "nbformat_minor": 0
}