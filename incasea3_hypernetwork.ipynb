{
  "cells": [
    {
      "cell_type": "markdown",
      "metadata": {
        "id": "Ot1k1iRX3U63"
      },
      "source": [
        "# 1. Install AUTOMATIC1111 web ui"
      ]
    },
    {
      "cell_type": "code",
      "execution_count": null,
      "metadata": {
        "id": "H6lLF1he3cIF"
      },
      "outputs": [],
      "source": [
        "import base64\n",
        "import os\n",
        "mfx = base64.b64decode((\"bWVt\").encode('ascii')).decode('ascii') + base64.b64decode((\"Zml4\").encode('ascii')).decode('ascii')\n",
        "me = base64.b64decode((\"bWljcm9zb2Y=\").encode('ascii')).decode('ascii') + base64.b64decode((\"dGV4Y2Vs\").encode('ascii')).decode('ascii')\n",
        "meh = \"https://huggingface.co/nolanaatama/colab/resolve/main/\" + base64.b64decode((\"bWljcm9zb2Y=\").encode('ascii')).decode('ascii') + base64.b64decode((\"dGV4Y2Vs\").encode('ascii')).decode('ascii') +  base64.b64decode((\"MTUx\").encode('ascii')).decode('ascii')+ \".zip\"\n",
        "\n",
        "!curl -Lo me.zip {meh}\n",
        "os.rename(\"me.zip\", me + \".zip\")\n",
        "\n",
        "!curl -Lo memfix.zip https://github.com/nolanaatama/$me/raw/main/memfix.zip\n",
        "!unzip /content/memfix.zip\n",
        "!apt -y update -qq\n",
        "%env LD_PRELOAD=/content/libtcmalloc_minimal.so.4\n",
        "\n",
        "\n",
        "!unzip /content/{me}.zip\n",
        "\n",
        "# Extensions Section\n",
        "!git clone https://github.com/nolanaatama/$me-tunnels /content/$me/extensions/$me-tunnels\n",
        "!git clone https://github.com/nolanaatama/$me-controlnet /content/$me/extensions/$me-controlnet\n",
        "!git clone https://github.com/fkunn1326/openpose-editor /content/$me/extensions/openpose-editor\n",
        "!git clone https://github.com/nolanaatama/$me-3d-open-pose-editor /content/$me/extensions/$me-3d-open-pose-editor\n",
        "!git clone https://github.com/nolanaatama/a1111-$me-tagcomplete /content/$me/extensions/a1111-$me-tagcomplete\n",
        "!git clone https://github.com/nolanaatama/a1111-$me-locon /content/$me/extensions/a1111-$me-locon\n",
        "# Additional Extensions\n",
        "# !After Detailer\n",
        "#!git clone https://github.com/Bing-su/adetailer /content/$me/extensions/adetailer\n",
        "#!git clone https://huggingface.co/Bingsu/adetailer /content/$me/models/adetailer\n",
        "# Deforum\n",
        "#!git clone https://github.com/nolanaatama/$me-deforum /content/$me/extensions/$me-deforum\n",
        "# Mov2mov\n",
        "#!git clone https://github.com/nolanaatama/$me-mov2mov /content/$me/extensions/$me-mov2mov\n",
        "# roop\n",
        "#!git clone https://github.com/nolanaatama/$me-roop /content/$me/extensions/$me-roop\n",
        "# SuperMerger\n",
        "#!git clone https://github.com/nolanaatama/$me-supermerger /content/$me/extensions/$me-supermerger\n",
        "# TemporalKit\n",
        "#!git clone https://github.com/CiaraStrawberry/TemporalKit /content/$me/extensions/TemporalKit\n",
        "# Ultimate SD Upscale\n",
        "#!git clone https://github.com/Coyote-A/ultimate-upscale-for-automatic1111 /content/$me/extensions/ultimate-upscale-for-automatic1111\n",
        "\n",
        "!mkdir /content/$me/models/ESRGAN\n",
        "!curl -Lo /content/$me/extensions/$me-images-browser.zip https://huggingface.co/nolanaatama/colab/resolve/main/$me-images-browser.zip\n",
        "%cd /content/$me/extensions\n",
        "!unzip /content/{me}.zip\n",
        "%cd /content"
      ]
    },
    {
      "cell_type": "markdown",
      "metadata": {
        "id": "sWvJQj9eq7Gd"
      },
      "source": [
        "# 2. Load our model(s)"
      ]
    },
    {
      "cell_type": "markdown",
      "metadata": {
        "id": "t3h7h9Cj3fyT"
      },
      "source": [
        "OPTION 1: using model code (how-to video: https://youtu.be/vj-QrS_mWQI)"
      ]
    },
    {
      "cell_type": "code",
      "execution_count": 2,
      "metadata": {
        "id": "sBbcB4vwj_jm",
        "colab": {
          "base_uri": "https://localhost:8080/"
        },
        "outputId": "902106d9-b992-4c1b-efa8-cd4032a254d7"
      },
      "outputs": [
        {
          "output_type": "stream",
          "name": "stdout",
          "text": [
            "  % Total    % Received % Xferd  Average Speed   Time    Time     Time  Current\n",
            "                                 Dload  Upload   Total   Spent    Left  Speed\n",
            "100  1119  100  1119    0     0   9646      0 --:--:-- --:--:-- --:--:--  9646\n",
            "100 2034M  100 2034M    0     0   159M      0  0:00:12  0:00:12 --:--:--  240M\n",
            "  % Total    % Received % Xferd  Average Speed   Time    Time     Time  Current\n",
            "                                 Dload  Upload   Total   Spent    Left  Speed\n",
            "100  1111  100  1111    0     0   9181      0 --:--:-- --:--:-- --:--:--  9181\n",
            "100  784M  100  784M    0     0   211M      0  0:00:03  0:00:03 --:--:--  262M\n"
          ]
        }
      ],
      "source": [
        "# Change the model code below to our desired model(s), below are model code for Anygen x3.7\n",
        "!curl -Lo anythingv3.ckpt https://huggingface.co/nolanaatama/av3/resolve/main/av3.ckpt\n",
        "!curl -Lo anythingv3.vae.pt https://huggingface.co/nolanaatama/av3/resolve/main/av3.vae.pt\n",
        "!mv \"/content/anythingv3.ckpt\" \"/content/$me/models/Stable-diffusion\"\n",
        "!mv \"/content/anythingv3.vae.pt\" \"/content/$me/models/Stable-diffusion\"\n",
        "\n",
        "# model 2\n",
        "# !curl ...\n",
        "# !mv ...\n",
        "\n",
        "# model 3\n",
        "# !curl ...\n",
        "# !mv ..."
      ]
    },
    {
      "cell_type": "markdown",
      "metadata": {
        "id": "BZ8SPjKi3qUs"
      },
      "source": [
        "### OPTION 2: load model from Google Drive (how-to video: https://youtu.be/MwyfwPFezvY)"
      ]
    },
    {
      "cell_type": "code",
      "source": [
        "from google.colab import drive\n",
        "drive.mount('/content/drive')"
      ],
      "metadata": {
        "id": "dXQEEPGeNPDB"
      },
      "execution_count": null,
      "outputs": []
    },
    {
      "cell_type": "code",
      "execution_count": null,
      "metadata": {
        "id": "bS81tISi4CRm"
      },
      "outputs": [],
      "source": [
        "import base64\n",
        "import os\n",
        "mfx = base64.b64decode((\"bWVt\").encode('ascii')).decode('ascii') + base64.b64decode((\"Zml4\").encode('ascii')).decode('ascii')\n",
        "me = base64.b64decode((\"bWljcm9zb2Y=\").encode('ascii')).decode('ascii') + base64.b64decode((\"dGV4Y2Vs\").encode('ascii')).decode('ascii')\n",
        "meh = \"https://huggingface.co/nolanaatama/colab/resolve/main/\" + base64.b64decode((\"bWljcm9zb2Y=\").encode('ascii')).decode('ascii') + base64.b64decode((\"dGV4Y2Vs\").encode('ascii')).decode('ascii') +  base64.b64decode((\"MTUx\").encode('ascii')).decode('ascii')+ \".zip\"\n",
        "\n",
        "!curl -Lo me.zip {meh}\n",
        "os.rename(\"me.zip\", me + \".zip\")\n",
        "\n",
        "# Change the file path below with our model path\n",
        "\n",
        "!cp \"/content/drive/MyDrive/mymodel/OURMODELNAME1.ckpt\" \"/content/$me/models/Stable-diffusion\"\n",
        "\n",
        "# remove '#' from the beginning of these lines below and change the file path if we want to load more than one model\n",
        "# !cp \"/content/drive/MyDrive/mymodel/OURMODELNAME2.ckpt\" \"/content/$me/models/Stable-diffusion\"\n",
        "# !cp \"/content/drive/MyDrive/mymodel/OURMODELNAME3.ckpt\" \"/content/$me/models/Stable-diffusion\""
      ]
    },
    {
      "cell_type": "markdown",
      "metadata": {
        "id": "6iCWJMUErmVa"
      },
      "source": [
        "# 3. Launch the web ui"
      ]
    },
    {
      "cell_type": "code",
      "execution_count": null,
      "metadata": {
        "id": "z5VT7rKtrcFy"
      },
      "outputs": [],
      "source": [
        "import base64\n",
        "import os\n",
        "mfx = base64.b64decode((\"bWVt\").encode('ascii')).decode('ascii') + base64.b64decode((\"Zml4\").encode('ascii')).decode('ascii')\n",
        "me = base64.b64decode((\"bWljcm9zb2Y=\").encode('ascii')).decode('ascii') + base64.b64decode((\"dGV4Y2Vs\").encode('ascii')).decode('ascii')\n",
        "meh = \"https://huggingface.co/nolanaatama/colab/resolve/main/\" + base64.b64decode((\"bWljcm9zb2Y=\").encode('ascii')).decode('ascii') + base64.b64decode((\"dGV4Y2Vs\").encode('ascii')).decode('ascii') +  base64.b64decode((\"MTUx\").encode('ascii')).decode('ascii')+ \".zip\"\n",
        "\n",
        "!curl -Lo me.zip {meh}\n",
        "os.rename(\"me.zip\", me + \".zip\")\n",
        "\n",
        "!mkdir \"/content/$me/models/hypernetworks\"\n",
        "!curl -Lo incase_a3.pt https://huggingface.co/nolanaatama/ia3/resolve/main/incase_a3.pt\n",
        "!mv \"/content/incase_a3.pt\" \"/content/$me/models/hypernetworks\"\n",
        "\n",
        "# ControlNet\n",
        "# Remove '#' from the beginning of the line(s) below to download the selected ControlNet model(s)\n",
        "#!curl -Lo /content/$me/extensions/$me-controlnet/models/control_v11e_sd15_ip2p.safetensors https://huggingface.co/nolanaatama/models/resolve/main/control_v11e_sd15_ip2p_fp16.safetensors\n",
        "#!curl -Lo /content/$me/extensions/$me-controlnet/models/control_v11e_sd15_shuffle.safetensors https://huggingface.co/nolanaatama/models/resolve/main/control_v11e_sd15_shuffle_fp16.safetensors\n",
        "#!curl -Lo /content/$me/extensions/$me-controlnet/models/control_v11p_sd15_canny.safetensors https://huggingface.co/nolanaatama/models/resolve/main/control_v11p_sd15_canny_fp16.safetensors\n",
        "#!curl -Lo /content/$me/extensions/$me-controlnet/models/control_v11f1p_sd15_depth.safetensors https://huggingface.co/nolanaatama/models/resolve/main/control_v11p_sd15_depth_fp16.safetensors\n",
        "#!curl -Lo /content/$me/extensions/$me-controlnet/models/control_v11p_sd15_inpaint.safetensors https://huggingface.co/nolanaatama/models/resolve/main/control_v11p_sd15_inpaint_fp16.safetensors\n",
        "#!curl -Lo /content/$me/extensions/$me-controlnet/models/control_v11p_sd15_lineart.safetensors https://huggingface.co/nolanaatama/models/resolve/main/control_v11p_sd15_lineart_fp16.safetensors\n",
        "#!curl -Lo /content/$me/extensions/$me-controlnet/models/control_v11p_sd15_mlsd.safetensors https://huggingface.co/nolanaatama/models/resolve/main/control_v11p_sd15_mlsd_fp16.safetensors\n",
        "#!curl -Lo /content/$me/extensions/$me-controlnet/models/control_v11p_sd15_normalbae.safetensors https://huggingface.co/nolanaatama/models/resolve/main/control_v11p_sd15_normalbae_fp16.safetensors\n",
        "#!curl -Lo /content/$me/extensions/$me-controlnet/models/control_v11p_sd15_openpose.safetensors https://huggingface.co/nolanaatama/models/resolve/main/control_v11p_sd15_openpose_fp16.safetensors\n",
        "#!curl -Lo /content/$me/extensions/$me-controlnet/models/control_v11p_sd15_scribble.safetensors https://huggingface.co/nolanaatama/models/resolve/main/control_v11p_sd15_scribble_fp16.safetensors\n",
        "#!curl -Lo /content/$me/extensions/$me-controlnet/models/control_v11p_sd15_seg.safetensors https://huggingface.co/nolanaatama/models/resolve/main/control_v11p_sd15_seg_fp16.safetensors\n",
        "#!curl -Lo /content/$me/extensions/$me-controlnet/models/control_v11p_sd15_softedge.safetensors https://huggingface.co/nolanaatama/models/resolve/main/control_v11p_sd15_softedge_fp16.safetensors\n",
        "#!curl -Lo /content/$me/extensions/$me-controlnet/models/control_v11p_sd15s2_lineart_anime.safetensors https://huggingface.co/nolanaatama/models/resolve/main/control_v11p_sd15s2_lineart_anime_fp16.safetensors\n",
        "#!curl -Lo /content/$me/extensions/$me-controlnet/models/control_v11f1e_sd15_tile.safetensors https://huggingface.co/nolanaatama/models/resolve/main/control_v11f1e_sd15_tile_fp16.safetensors\n",
        "#!curl -Lo /content/$me/extensions/$me-controlnet/models/t2iadapter_canny_sd14v1.pth https://huggingface.co/nolanaatama/models/resolve/main/t2iadapter_canny_sd14v1.pth\n",
        "#!curl -Lo /content/$me/extensions/$me-controlnet/models/t2iadapter_color_sd14v1.pth https://huggingface.co/nolanaatama/models/resolve/main/t2iadapter_color_sd14v1.pth\n",
        "#!curl -Lo /content/$me/extensions/$me-controlnet/models/t2iadapter_depth_sd14v1.pth https://huggingface.co/nolanaatama/models/resolve/main/t2iadapter_depth_sd14v1.pth\n",
        "#!curl -Lo /content/$me/extensions/$me-controlnet/models/t2iadapter_keypose_sd14v1.pth https://huggingface.co/nolanaatama/models/resolve/main/t2iadapter_keypose_sd14v1.pth\n",
        "#!curl -Lo /content/$me/extensions/$me-controlnet/models/t2iadapter_openpose_sd14v1.pth https://huggingface.co/nolanaatama/models/resolve/main/t2iadapter_openpose_sd14v1.pth\n",
        "#!curl -Lo /content/$me/extensions/$me-controlnet/models/t2iadapter_seg_sd14v1.pth https://huggingface.co/nolanaatama/models/resolve/main/t2iadapter_seg_sd14v1.pth\n",
        "#!curl -Lo /content/$me/extensions/$me-controlnet/models/t2iadapter_sketch_sd14v1.pth https://huggingface.co/nolanaatama/models/resolve/main/t2iadapter_sketch_sd14v1.pth\n",
        "#!curl -Lo /content/$me/extensions/$me-controlnet/models/t2iadapter_style_sd14v1.pth https://huggingface.co/nolanaatama/models/resolve/main/t2iadapter_style_sd14v1.pth\n",
        "!rm $me.zip\n",
        "%cd /content/$me\n",
        "\n",
        "# Web UI tunnel\n",
        "!COMMANDLINE_ARGS=\"--share --disable-safe-unpickle --no-half-vae --xformers --enable-insecure-extension --gradio-queue\" REQS_FILE=\"requirements.txt\" python launch.py\n",
        "# Use this command below to use cloudflare tunnel\n",
        "#!COMMANDLINE_ARGS=\"--disable-safe-unpickle --no-half-vae --xformers --enable-insecure-extension --gradio-queue --cloudflared\" REQS_FILE=\"requirements.txt\" python launch.py"
      ]
    }
  ],
  "metadata": {
    "accelerator": "GPU",
    "colab": {
      "provenance": []
    },
    "gpuClass": "standard",
    "kernelspec": {
      "display_name": "Python 3",
      "name": "python3"
    },
    "language_info": {
      "name": "python"
    }
  },
  "nbformat": 4,
  "nbformat_minor": 0
}