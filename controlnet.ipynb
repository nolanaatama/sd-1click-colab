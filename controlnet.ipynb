{
  "cells": [
    {
      "cell_type": "code",
      "execution_count": null,
      "metadata": {
        "id": "sBbcB4vwj_jm"
      },
      "outputs": [],
      "source": [
        "!pip install --upgrade fastapi==0.90.1\n",
        "!git clone https://github.com/AUTOMATIC1111/stable-diffusion-webui\n",
        "!git clone https://github.com/Mikubill/sd-webui-controlnet /content/stable-diffusion-webui/extensions/sd-webui-controlnet\n",
        "!git clone https://github.com/fkunn1326/openpose-editor /content/stable-diffusion-webui/extensions/openpose-editor\n",
        "!git clone https://github.com/yfszzx/stable-diffusion-webui-images-browser /content/stable-diffusion-webui/extensions/stable-diffusion-webui-images-browser\n",
        "!git clone https://github.com/DominikDoom/a1111-sd-webui-tagcomplete /content/stable-diffusion-webui/extensions/a1111-sd-webui-tagcomplete\n",
        "\n",
        "# Model(s) setup\n",
        "# Below are model codes for our base model, just pick 1 or 2 to avoid colab crashing out of memory\n",
        "# Our desired model is not in the list? we could always change it ourselves (how-to: https://youtu.be/vj-QrS_mWQI or https://youtu.be/MwyfwPFezvY)\n",
        "# Remove the '#' from the beginning of '!curl' and '!mv' line(s) of our choosen model(s)\n",
        "\n",
        "# STABLE DIFFUSION 1.5\n",
        "#!curl -Lo sd1.5.ckpt https://huggingface.co/nolanaatama/sd15/resolve/main/model.ckpt\n",
        "#!curl -Lo sd1.5.yaml https://huggingface.co/nolanaatama/sd15/raw/main/model.yaml\n",
        "#!mv \"/content/sd1.5.ckpt\" \"/content/stable-diffusion-webui/models/Stable-diffusion\"\n",
        "#!mv \"/content/sd1.5.yaml\" \"/content/stable-diffusion-webui/models/Stable-diffusion\"\n",
        "\n",
        "# REALISTIC VISION\n",
        "#!curl -Lo realisticvisionv1.3.ckpt https://huggingface.co/nolanaatama/rv13/resolve/main/rv13.ckpt\n",
        "#!mv \"/content/realisticvisionv1.3.ckpt\" \"/content/stable-diffusion-webui/models/Stable-diffusion\"\n",
        "\n",
        "# CHILLOUTMIX\n",
        "#!curl -Lo chilloutmixni.safetensors https://huggingface.co/nolanaatama/chomni/resolve/main/chomni.safetensors\n",
        "#!mv \"/content/chilloutmixni.safetensors\" \"/content/stable-diffusion-webui/models/Stable-diffusion\"\n",
        "\n",
        "# DREAMSHAPER\n",
        "#!curl -Lo dreamshaper3.32bvcf.ckpt https://huggingface.co/Lykon/DreamShaper/resolve/main/Dreamshaper_3.32_baked_vae_clip_fix.ckpt\n",
        "#!mv \"/content/dreamshaper3.32bvcf.ckpt\" \"/content/stable-diffusion-webui/models/Stable-diffusion\"\n",
        "\n",
        "# DELIBERATE\n",
        "#!curl -Lo deliberate.ckpt https://huggingface.co/nolanaatama/dlbrt/resolve/main/deliberate.ckpt\n",
        "#!mv \"/content/deliberate.ckpt\" \"/content/stable-diffusion-webui/models/Stable-diffusion\"\n",
        "\n",
        "# ANYTHING V3\n",
        "#!curl -Lo anythingv3.ckpt https://huggingface.co/nolanaatama/av3/resolve/main/av3.ckpt\n",
        "#!curl -Lo anythingv3.vae.pt https://huggingface.co/nolanaatama/av3/resolve/main/av3.vae.pt\n",
        "#!mv \"/content/anythingv3.ckpt\" \"/content/stable-diffusion-webui/models/Stable-diffusion\"\n",
        "#!mv \"/content/anythingv3.vae.pt\" \"/content/stable-diffusion-webui/models/Stable-diffusion\"\n",
        "\n",
        "# ANYTHING V4.5\n",
        "#!curl -Lo anythingv4.5.ckpt https://huggingface.co/andite/anything-v4.0/resolve/main/anything-v4.5-pruned.ckpt\n",
        "#!curl -Lo anythingv4.5.vae.pt https://huggingface.co/andite/anything-v4.0/resolve/main/anything-v4.0.vae.pt\n",
        "#!mv \"/content/anythingv4.5.ckpt\" \"/content/stable-diffusion-webui/models/Stable-diffusion\"\n",
        "#!mv \"/content/anythingv4.5.vae.pt\" \"/content/stable-diffusion-webui/models/Stable-diffusion\"\n",
        "\n",
        "# ABYSSORANGEMIX2\n",
        "#!curl -Lo abyssorangemix2.safetensors https://huggingface.co/WarriorMama777/OrangeMixs/resolve/main/Models/AbyssOrangeMix2/AbyssOrangeMix2_hard.safetensors\n",
        "#!curl -Lo abyssorangemix2.vae.pt https://huggingface.co/WarriorMama777/OrangeMixs/resolve/main/VAEs/orangemix.vae.pt\n",
        "#!mv \"/content/abyssorangemix2.safetensors\" \"/content/stable-diffusion-webui/models/Stable-diffusion\"\n",
        "#!mv \"/content/abyssorangemix2.vae.pt\" \"/content/stable-diffusion-webui/models/Stable-diffusion\"\n",
        "\n",
        "# PASTEL-MIX\n",
        "#!curl -Lo pastelmix.ckpt https://huggingface.co/andite/pastel-mix/resolve/main/pastelmix-better-vae-fp32.ckpt\n",
        "#!mv \"/content/pastelmix.ckpt\" \"/content/stable-diffusion-webui/models/Stable-diffusion\"\n",
        "\n",
        "# ControlNet\n",
        "# canny\n",
        "!curl -Lo control_canny-fp16.safetensors https://huggingface.co/webui/ControlNet-modules-safetensors/resolve/main/control_canny-fp16.safetensors\n",
        "!mv \"/content/control_canny-fp16.safetensors\" \"/content/stable-diffusion-webui/extensions/sd-webui-controlnet/models\"\n",
        "# depth\n",
        "!curl -Lo control_depth-fp16.safetensors https://huggingface.co/webui/ControlNet-modules-safetensors/resolve/main/control_depth-fp16.safetensors\n",
        "!mv \"/content/control_depth-fp16.safetensors\" \"/content/stable-diffusion-webui/extensions/sd-webui-controlnet/models\"\n",
        "# hed\n",
        "!curl -Lo control_hed-fp16.safetensors https://huggingface.co/webui/ControlNet-modules-safetensors/resolve/main/control_hed-fp16.safetensors\n",
        "!mv \"/content/control_hed-fp16.safetensors\" \"/content/stable-diffusion-webui/extensions/sd-webui-controlnet/models\"\n",
        "# mlsd\n",
        "!curl -Lo control_mlsd-fp16.safetensors https://huggingface.co/webui/ControlNet-modules-safetensors/resolve/main/control_mlsd-fp16.safetensors\n",
        "!mv \"/content/control_mlsd-fp16.safetensors\" \"/content/stable-diffusion-webui/extensions/sd-webui-controlnet/models\"\n",
        "# normal\n",
        "!curl -Lo control_normal-fp16.safetensors https://huggingface.co/webui/ControlNet-modules-safetensors/resolve/main/control_normal-fp16.safetensors\n",
        "!mv \"/content/control_normal-fp16.safetensors\" \"/content/stable-diffusion-webui/extensions/sd-webui-controlnet/models\"\n",
        "# openpose\n",
        "!curl -Lo control_openpose-fp16.safetensors https://huggingface.co/webui/ControlNet-modules-safetensors/resolve/main/control_openpose-fp16.safetensors\n",
        "!mv \"/content/control_openpose-fp16.safetensors\" \"/content/stable-diffusion-webui/extensions/sd-webui-controlnet/models\"\n",
        "# scribble\n",
        "!curl -Lo control_scribble-fp16.safetensors https://huggingface.co/webui/ControlNet-modules-safetensors/resolve/main/control_scribble-fp16.safetensors\n",
        "!mv \"/content/control_scribble-fp16.safetensors\" \"/content/stable-diffusion-webui/extensions/sd-webui-controlnet/models\"\n",
        "# seg\n",
        "!curl -Lo control_seg-fp16.safetensors https://huggingface.co/webui/ControlNet-modules-safetensors/resolve/main/control_seg-fp16.safetensors\n",
        "!mv \"/content/control_seg-fp16.safetensors\" \"/content/stable-diffusion-webui/extensions/sd-webui-controlnet/models\"\n",
        "\n",
        "import shutil\n",
        "shutil.rmtree('/content/stable-diffusion-webui/embeddings')\n",
        "%cd /content/stable-diffusion-webui\n",
        "!git checkout 3715ece\n",
        "!git clone https://huggingface.co/nolanaatama/embeddings\n",
        "!COMMANDLINE_ARGS=\"--share --disable-safe-unpickle --no-half-vae --xformers --reinstall-xformers --enable-insecure-extension-access\" REQS_FILE=\"requirements.txt\" python launch.py"
      ]
    },
    {
      "cell_type": "markdown",
      "source": [
        "## (OPTIONAL) LoRAs"
      ],
      "metadata": {
        "id": "0DwYF_aLUXKy"
      }
    },
    {
      "cell_type": "markdown",
      "source": [
        "### 1. After the gradio link show up, stop the first cell & clear the code output👆"
      ],
      "metadata": {
        "id": "JUtPlg328avv"
      }
    },
    {
      "cell_type": "markdown",
      "source": [
        "### 2. Load the LoRA & launch the web ui"
      ],
      "metadata": {
        "id": "xy_WyDzNUgd2"
      }
    },
    {
      "cell_type": "code",
      "source": [
        "# Copy the LoRA code from other LoRA setup (download the setup file after editing the LoRA code cell to avoid repeat input for next session)\n",
        "# How-to download the setup file: Click 'File' menu -> 'Download' -> 'Download .ipynb'\n",
        "# Load LoRA from Google Drive: https://youtu.be/G1QZfAPUMaM\n",
        "\n",
        "# LoRA 1\n",
        "#!curl ...\n",
        "#!mv ...\n",
        "\n",
        "# LoRA 2\n",
        "#!curl ...\n",
        "#!mv ...\n",
        "\n",
        "# LoRA 3\n",
        "#!curl ...\n",
        "#!mv ...\n",
        "\n",
        "# ...\n",
        "\n",
        "!COMMANDLINE_ARGS=\"--share --disable-safe-unpickle --no-half-vae --xformers --reinstall-xformers --enable-insecure-extension-access\" REQS_FILE=\"requirements.txt\" python launch.py"
      ],
      "metadata": {
        "id": "3EOPSiOgUs4z"
      },
      "execution_count": null,
      "outputs": []
    },
    {
      "cell_type": "markdown",
      "metadata": {
        "id": "fhwIXzcgfkoR"
      },
      "source": [
        "# 📚 GitHub for more: [_@nolanaatama_](https://github.com/nolanaatama)\n",
        "# 📦 Repo: [Github](https://github.com/nolanaatama/sd-1click-colab)"
      ]
    }
  ],
  "metadata": {
    "accelerator": "GPU",
    "colab": {
      "provenance": []
    },
    "gpuClass": "standard",
    "kernelspec": {
      "display_name": "Python 3",
      "name": "python3"
    },
    "language_info": {
      "name": "python"
    }
  },
  "nbformat": 4,
  "nbformat_minor": 0
}