{
  "nbformat": 4,
  "nbformat_minor": 0,
  "metadata": {
    "colab": {
      "provenance": []
    },
    "kernelspec": {
      "name": "python3",
      "display_name": "Python 3"
    },
    "language_info": {
      "name": "python"
    },
    "accelerator": "GPU",
    "gpuClass": "standard"
  },
  "cells": [
    {
      "cell_type": "markdown",
      "source": [
        "# 1. Setup the web ui"
      ],
      "metadata": {
        "id": "RdNxwP2_sKmm"
      }
    },
    {
      "cell_type": "code",
      "source": [
        "!git clone https://github.com/AUTOMATIC1111/stable-diffusion-webui\n",
        "!git clone https://github.com/yfszzx/stable-diffusion-webui-images-browser /content/stable-diffusion-webui/extensions/stable-diffusion-webui-images-browser\n",
        "!git clone https://github.com/kohya-ss/sd-webui-additional-networks /content/stable-diffusion-webui/extensions/sd-webui-additional-networks\n",
        "%pip install -q https://github.com/nolanaatama/sd-webui/releases/download/xformers/xformers-0.0.15+e163309.d20230103-cp38-cp38-linux_x86_64.whl\n",
        "\n",
        "# Model(s) setup\n",
        "# Below are model code for Midnight Mixer Melt, we always could change it to our desired model (how-to: https://youtu.be/vj-QrS_mWQI or https://youtu.be/MwyfwPFezvY)\n",
        "!curl -Lo midnightmixermelt.safetensors https://huggingface.co/DrBob2142/Midnight_Mixes/resolve/main/Midnight%20Mixer%20Melt.safetensors\n",
        "!curl -Lo midnightmixermelt.vae.pt https://huggingface.co/hakurei/waifu-diffusion-v1-4/resolve/main/vae/kl-f8-anime2.ckpt\n",
        "!mv \"/content/midnightmixermelt.safetensors\" \"/content/stable-diffusion-webui/models/Stable-diffusion\"\n",
        "!mv \"/content/midnightmixermelt.vae.pt\" \"/content/stable-diffusion-webui/models/Stable-diffusion\"\n",
        "\n",
        "# Additional embeddings\n",
        "!curl -Lo robin_v2_1600.pt https://huggingface.co/nolanaatama/etic/resolve/main/robin_v2_1600.pt\n",
        "!curl -Lo robin_v2_3000.pt https://huggingface.co/nolanaatama/etic/resolve/main/robin_v2_3000.pt\n",
        "!curl -Lo nami.pt https://huggingface.co/nolanaatama/etic/resolve/main/nami.pt\n",
        "!curl -Lo nami_8000.pt https://huggingface.co/nolanaatama/etic/resolve/main/nami_8000.pt\n",
        "!curl -Lo yamato_5000.pt https://huggingface.co/nolanaatama/etic/resolve/main/yamato_5000.pt\n",
        "!curl -Lo yamato_7000.pt https://huggingface.co/nolanaatama/etic/resolve/main/yamato_7000.pt\n",
        "!curl -Lo bad-artist.pt https://huggingface.co/nick-x-hacker/bad-artist/resolve/main/bad-artist.pt\n",
        "!curl -Lo bad-artist-anime.pt https://huggingface.co/nick-x-hacker/bad-artist/resolve/main/bad-artist-anime.pt\n",
        "!mv \"/content/robin_v2_1600.pt\" \"/content/stable-diffusion-webui/embeddings\"\n",
        "!mv \"/content/robin_v2_3000.pt\" \"/content/stable-diffusion-webui/embeddings\"\n",
        "!mv \"/content/nami.pt\" \"/content/stable-diffusion-webui/embeddings\"\n",
        "!mv \"/content/nami_8000.pt\" \"/content/stable-diffusion-webui/embeddings\"\n",
        "!mv \"/content/yamato_5000.pt\" \"/content/stable-diffusion-webui/embeddings\"\n",
        "!mv \"/content/yamato_7000.pt\" \"/content/stable-diffusion-webui/embeddings\"\n",
        "!mv \"/content/bad-artist.pt\" \"/content/stable-diffusion-webui/embeddings\"\n",
        "!mv \"/content/bad-artist-anime.pt\" \"/content/stable-diffusion-webui/embeddings\"\n",
        "\n",
        "%cd /content/stable-diffusion-webui/extensions/sd-webui-additional-networks\n",
        "!git checkout ac705ce\n",
        "%cd /content/stable-diffusion-webui\n",
        "!git checkout 4af3ca5\n",
        "!COMMANDLINE_ARGS=\"--share --gradio-debug --medvram --disable-safe-unpickle --xformers\" REQS_FILE=\"requirements.txt\" python launch.py"
      ],
      "metadata": {
        "id": "sBbcB4vwj_jm"
      },
      "execution_count": null,
      "outputs": []
    },
    {
      "cell_type": "markdown",
      "source": [
        "# 2. After the gradio link show up, stop the first cell & clear the code output👆"
      ],
      "metadata": {
        "id": "q_a60l6bsIhk"
      }
    },
    {
      "cell_type": "markdown",
      "source": [
        "# 3. Load the LoRA & launch the web ui"
      ],
      "metadata": {
        "id": "TdUm1rfosPHL"
      }
    },
    {
      "cell_type": "code",
      "source": [
        "!curl -Lo wanostyle_2.safetensors https://huggingface.co/nolanaatama/opwslora/resolve/main/onePieceWanoStyle_20.safetensors\n",
        "!mv \"/content/stable-diffusion-webui/wanostyle_2.safetensors\" \"/content/stable-diffusion-webui/extensions/sd-webui-additional-networks/models/LoRA\"\n",
        "!COMMANDLINE_ARGS=\"--share --gradio-debug --medvram --disable-safe-unpickle --xformers\" REQS_FILE=\"requirements.txt\" python launch.py"
      ],
      "metadata": {
        "id": "QX_G50CdsR1O"
      },
      "execution_count": null,
      "outputs": []
    },
    {
      "cell_type": "markdown",
      "metadata": {
        "id": "fhwIXzcgfkoR"
      },
      "source": [
        "# 📚 GitHub for more: [_@nolanaatama_](https://github.com/nolanaatama)\n",
        "# 📦 Repo: [Github](https://github.com/nolanaatama/sd-ai1px-colab)"
      ]
    }
  ]
}