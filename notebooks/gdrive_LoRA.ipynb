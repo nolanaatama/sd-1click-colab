{
  "cells": [
    {
      "cell_type": "markdown",
      "source": [
        "# 1. Setup the web ui"
      ],
      "metadata": {
        "id": "bsiZpfkU7S77"
      }
    },
    {
      "cell_type": "code",
      "execution_count": null,
      "metadata": {
        "id": "sBbcB4vwj_jm"
      },
      "outputs": [],
      "source": [
        "!curl -Lo memfix.zip https://github.com/nolanaatama/microsoftexcel/raw/main/memfix.zip\n",
        "!unzip /content/memfix.zip\n",
        "!apt -y update -qq\n",
        "%env LD_PRELOAD=/content/libtcmalloc_minimal.so.4\n",
        "\n",
        "!curl -Lo microsoftexcel.zip https://huggingface.co/nolanaatama/colab/resolve/main/microsoftexcel151.zip\n",
        "!unzip /content/microsoftexcel.zip\n",
        "\n",
        "# Extensions Section\n",
        "!git clone https://github.com/nolanaatama/microsoftexcel-tunnels /content/microsoftexcel/extensions/microsoftexcel-tunnels\n",
        "!git clone https://github.com/nolanaatama/microsoftexcel-controlnet /content/microsoftexcel/extensions/microsoftexcel-controlnet\n",
        "!git clone https://github.com/fkunn1326/openpose-editor /content/microsoftexcel/extensions/openpose-editor\n",
        "!git clone https://github.com/nolanaatama/microsoftexcel-3d-open-pose-editor /content/microsoftexcel/extensions/microsoftexcel-3d-open-pose-editor\n",
        "!git clone https://github.com/nolanaatama/a1111-microsoftexcel-tagcomplete /content/microsoftexcel/extensions/a1111-microsoftexcel-tagcomplete\n",
        "!git clone https://github.com/nolanaatama/a1111-microsoftexcel-locon /content/microsoftexcel/extensions/a1111-microsoftexcel-locon\n",
        "# Additional Extensions\n",
        "# !After Detailer\n",
        "#!git clone https://github.com/Bing-su/adetailer /content/microsoftexcel/extensions/adetailer\n",
        "#!git clone https://huggingface.co/Bingsu/adetailer /content/microsoftexcel/models/adetailer\n",
        "# Deforum\n",
        "#!git clone https://github.com/nolanaatama/microsoftexcel-deforum /content/microsoftexcel/extensions/microsoftexcel-deforum\n",
        "# Mov2mov\n",
        "#!git clone https://github.com/nolanaatama/microsoftexcel-mov2mov /content/microsoftexcel/extensions/microsoftexcel-mov2mov\n",
        "# roop\n",
        "#!git clone https://github.com/nolanaatama/microsoftexcel-roop /content/microsoftexcel/extensions/microsoftexcel-roop\n",
        "# SuperMerger\n",
        "#!git clone https://github.com/nolanaatama/microsoftexcel-supermerger /content/microsoftexcel/extensions/microsoftexcel-supermerger\n",
        "# TemporalKit\n",
        "#!git clone https://github.com/CiaraStrawberry/TemporalKit /content/microsoftexcel/extensions/TemporalKit\n",
        "# Ultimate SD Upscale\n",
        "#!git clone https://github.com/Coyote-A/ultimate-upscale-for-automatic1111 /content/microsoftexcel/extensions/ultimate-upscale-for-automatic1111\n",
        "\n",
        "!mkdir /content/microsoftexcel/models/ESRGAN\n",
        "!curl -Lo /content/microsoftexcel/extensions/microsoftexcel-images-browser.zip https://huggingface.co/nolanaatama/colab/resolve/main/microsoftexcel-images-browser.zip\n",
        "!curl -Lo /content/microsoftexcel/embeddings/embeddings.zip https://huggingface.co/nolanaatama/colab/resolve/main/embeddings.zip\n",
        "!curl -Lo /content/microsoftexcel/models/ESRGAN/upscalers.zip https://huggingface.co/nolanaatama/colab/resolve/main/upscalers.zip\n",
        "%cd /content/microsoftexcel/extensions\n",
        "!unzip /content/microsoftexcel/extensions/microsoftexcel-images-browser.zip\n",
        "%cd /content/microsoftexcel/embeddings\n",
        "!unzip /content/microsoftexcel/embeddings/embeddings.zip\n",
        "%cd /content/microsoftexcel/models/ESRGAN\n",
        "!unzip /content/microsoftexcel/models/ESRGAN/upscalers.zip\n",
        "!rm upscalers.zip\n",
        "%cd /content\n",
        "\n",
        "# Model(s) setup\n",
        "# Below are model code for ChilloutMix, we always could change it to our desired model (how-to: https://youtu.be/vj-QrS_mWQI or https://youtu.be/MwyfwPFezvY)\n",
        "!curl -Lo /content/microsoftexcel/models/Stable-diffusion/chilloutmixni.safetensors https://huggingface.co/nolanaatama/chomni/resolve/main/chomni.safetensors\n",
        "\n",
        "# ControlNet\n",
        "# Remove '#' from the beginning of the line(s) below to download the selected ControlNet model(s)\n",
        "#!curl -Lo /content/microsoftexcel/extensions/microsoftexcel-controlnet/models/control_v11e_sd15_ip2p.safetensors https://huggingface.co/nolanaatama/models/resolve/main/control_v11e_sd15_ip2p_fp16.safetensors\n",
        "#!curl -Lo /content/microsoftexcel/extensions/microsoftexcel-controlnet/models/control_v11e_sd15_shuffle.safetensors https://huggingface.co/nolanaatama/models/resolve/main/control_v11e_sd15_shuffle_fp16.safetensors\n",
        "#!curl -Lo /content/microsoftexcel/extensions/microsoftexcel-controlnet/models/control_v11p_sd15_canny.safetensors https://huggingface.co/nolanaatama/models/resolve/main/control_v11p_sd15_canny_fp16.safetensors\n",
        "#!curl -Lo /content/microsoftexcel/extensions/microsoftexcel-controlnet/models/control_v11f1p_sd15_depth.safetensors https://huggingface.co/nolanaatama/models/resolve/main/control_v11p_sd15_depth_fp16.safetensors\n",
        "#!curl -Lo /content/microsoftexcel/extensions/microsoftexcel-controlnet/models/control_v11p_sd15_inpaint.safetensors https://huggingface.co/nolanaatama/models/resolve/main/control_v11p_sd15_inpaint_fp16.safetensors\n",
        "#!curl -Lo /content/microsoftexcel/extensions/microsoftexcel-controlnet/models/control_v11p_sd15_lineart.safetensors https://huggingface.co/nolanaatama/models/resolve/main/control_v11p_sd15_lineart_fp16.safetensors\n",
        "#!curl -Lo /content/microsoftexcel/extensions/microsoftexcel-controlnet/models/control_v11p_sd15_mlsd.safetensors https://huggingface.co/nolanaatama/models/resolve/main/control_v11p_sd15_mlsd_fp16.safetensors\n",
        "#!curl -Lo /content/microsoftexcel/extensions/microsoftexcel-controlnet/models/control_v11p_sd15_normalbae.safetensors https://huggingface.co/nolanaatama/models/resolve/main/control_v11p_sd15_normalbae_fp16.safetensors\n",
        "#!curl -Lo /content/microsoftexcel/extensions/microsoftexcel-controlnet/models/control_v11p_sd15_openpose.safetensors https://huggingface.co/nolanaatama/models/resolve/main/control_v11p_sd15_openpose_fp16.safetensors\n",
        "#!curl -Lo /content/microsoftexcel/extensions/microsoftexcel-controlnet/models/control_v11p_sd15_scribble.safetensors https://huggingface.co/nolanaatama/models/resolve/main/control_v11p_sd15_scribble_fp16.safetensors\n",
        "#!curl -Lo /content/microsoftexcel/extensions/microsoftexcel-controlnet/models/control_v11p_sd15_seg.safetensors https://huggingface.co/nolanaatama/models/resolve/main/control_v11p_sd15_seg_fp16.safetensors\n",
        "#!curl -Lo /content/microsoftexcel/extensions/microsoftexcel-controlnet/models/control_v11p_sd15_softedge.safetensors https://huggingface.co/nolanaatama/models/resolve/main/control_v11p_sd15_softedge_fp16.safetensors\n",
        "#!curl -Lo /content/microsoftexcel/extensions/microsoftexcel-controlnet/models/control_v11p_sd15s2_lineart_anime.safetensors https://huggingface.co/nolanaatama/models/resolve/main/control_v11p_sd15s2_lineart_anime_fp16.safetensors\n",
        "#!curl -Lo /content/microsoftexcel/extensions/microsoftexcel-controlnet/models/control_v11f1e_sd15_tile.safetensors https://huggingface.co/nolanaatama/models/resolve/main/control_v11f1e_sd15_tile_fp16.safetensors\n",
        "#!curl -Lo /content/microsoftexcel/extensions/microsoftexcel-controlnet/models/t2iadapter_canny_sd14v1.pth https://huggingface.co/nolanaatama/models/resolve/main/t2iadapter_canny_sd14v1.pth\n",
        "#!curl -Lo /content/microsoftexcel/extensions/microsoftexcel-controlnet/models/t2iadapter_color_sd14v1.pth https://huggingface.co/nolanaatama/models/resolve/main/t2iadapter_color_sd14v1.pth\n",
        "#!curl -Lo /content/microsoftexcel/extensions/microsoftexcel-controlnet/models/t2iadapter_depth_sd14v1.pth https://huggingface.co/nolanaatama/models/resolve/main/t2iadapter_depth_sd14v1.pth\n",
        "#!curl -Lo /content/microsoftexcel/extensions/microsoftexcel-controlnet/models/t2iadapter_keypose_sd14v1.pth https://huggingface.co/nolanaatama/models/resolve/main/t2iadapter_keypose_sd14v1.pth\n",
        "#!curl -Lo /content/microsoftexcel/extensions/microsoftexcel-controlnet/models/t2iadapter_openpose_sd14v1.pth https://huggingface.co/nolanaatama/models/resolve/main/t2iadapter_openpose_sd14v1.pth\n",
        "#!curl -Lo /content/microsoftexcel/extensions/microsoftexcel-controlnet/models/t2iadapter_seg_sd14v1.pth https://huggingface.co/nolanaatama/models/resolve/main/t2iadapter_seg_sd14v1.pth\n",
        "#!curl -Lo /content/microsoftexcel/extensions/microsoftexcel-controlnet/models/t2iadapter_sketch_sd14v1.pth https://huggingface.co/nolanaatama/models/resolve/main/t2iadapter_sketch_sd14v1.pth\n",
        "#!curl -Lo /content/microsoftexcel/extensions/microsoftexcel-controlnet/models/t2iadapter_style_sd14v1.pth https://huggingface.co/nolanaatama/models/resolve/main/t2iadapter_style_sd14v1.pth\n",
        "!rm microsoftexcel.zip\n",
        "%cd /content/microsoftexcel\n",
        "\n",
        "# Web UI tunnel\n",
        "!COMMANDLINE_ARGS=\"--share --disable-safe-unpickle --no-half-vae --xformers --enable-insecure-extension --gradio-queue\" REQS_FILE=\"requirements.txt\" python launch.py\n",
        "# Use this command below to use cloudflare tunnel\n",
        "#!COMMANDLINE_ARGS=\"--disable-safe-unpickle --no-half-vae --xformers --enable-insecure-extension --gradio-queue --cloudflared\" REQS_FILE=\"requirements.txt\" python launch.py"
      ]
    },
    {
      "cell_type": "markdown",
      "source": [
        "# 2. After the gradio link show up, stop the first cell & clear the code output👆"
      ],
      "metadata": {
        "id": "JUtPlg328avv"
      }
    },
    {
      "cell_type": "markdown",
      "source": [
        "# 3. Mount our drive"
      ],
      "metadata": {
        "id": "qxhOCPrg7WXm"
      }
    },
    {
      "cell_type": "code",
      "source": [
        "from google.colab import drive\n",
        "drive.mount('/content/drive')"
      ],
      "metadata": {
        "id": "alypPmxi69M4"
      },
      "execution_count": null,
      "outputs": []
    },
    {
      "cell_type": "markdown",
      "source": [
        "# 4. Load the LoRA(s)"
      ],
      "metadata": {
        "id": "DQwVPx-t8Nol"
      }
    },
    {
      "cell_type": "markdown",
      "source": [
        "OPTION 1: choose individual LoRA"
      ],
      "metadata": {
        "id": "OJx4QIQosMMq"
      }
    },
    {
      "cell_type": "code",
      "source": [
        "# Change the file path to our LoRA file path.\n",
        "# Remove the '#' from the beginning of the other lines to load additional files.\n",
        "\n",
        "!cp \"/content/drive/MyDrive/our_LoRA_folder/OURLORAFILE1.pt\" \"/content/microsoftexcel/models/Lora\"\n",
        "#!cp \"/content/drive/MyDrive/our_LoRA_folder/OURLORAFILE2.pt\" \"/content/microsoftexcel/models/Lora\"\n",
        "#!cp \"/content/drive/MyDrive/our_LoRA_folder/OURLORAFILE3.pt\" \"/content/microsoftexcel/models/Lora\"\n",
        "#!cp \"/content/drive/MyDrive/our_LoRA_folder/OURLORAFILE4.pt\" \"/content/microsoftexcel/models/Lora\"\n",
        "#!cp \"/content/drive/MyDrive/our_LoRA_folder/OURLORAFILE5.pt\" \"/content/microsoftexcel/models/Lora\"\n",
        "#!cp \"/content/drive/MyDrive/our_LoRA_folder/OURLORAFILE6.pt\" \"/content/microsoftexcel/models/Lora\"\n",
        "#!cp \"/content/drive/MyDrive/our_LoRA_folder/OURLORAFILE7.pt\" \"/content/microsoftexcel/models/Lora\"\n",
        "#!cp \"/content/drive/MyDrive/our_LoRA_folder/OURLORAFILE8.pt\" \"/content/microsoftexcel/models/Lora\"\n",
        "# ...."
      ],
      "metadata": {
        "id": "1E0f1kMTrGJ0"
      },
      "execution_count": null,
      "outputs": []
    },
    {
      "cell_type": "markdown",
      "source": [
        "OPTION 2: copy all LoRA files from google drive folder"
      ],
      "metadata": {
        "id": "47CPtGUfsar8"
      }
    },
    {
      "cell_type": "code",
      "source": [
        "# Remove the '#' from the '!cp -r ...' line and change the file path to our LoRA folder path.\n",
        "# The LoRA folder path must be ended with '/.' like '/folder/subfolder/.'\n",
        "\n",
        "!cp -r '/content/drive/MyDrive/our_LoRA_folder1/.' '/content/microsoftexcel/models/Lora'\n",
        "#!cp -r '/content/drive/MyDrive/our_LoRA_folder2/.' '/content/microsoftexcel/models/Lora'\n",
        "#!cp -r '/content/drive/MyDrive/our_LoRA_folder3/.' '/content/microsoftexcel/models/Lora'\n",
        "# ...."
      ],
      "metadata": {
        "id": "dKmIwc3lsYR6"
      },
      "execution_count": null,
      "outputs": []
    },
    {
      "cell_type": "markdown",
      "source": [
        "# (OPTIONAL) Load the VAE(s)"
      ],
      "metadata": {
        "id": "IOiCtLWirY5F"
      }
    },
    {
      "cell_type": "markdown",
      "source": [
        "OPTION 1: choose individual VAE"
      ],
      "metadata": {
        "id": "K8eaYMMlrY5M"
      }
    },
    {
      "cell_type": "code",
      "source": [
        "# Change the file path to our VAE file path.\n",
        "# Remove the '#' from the beginning of the other lines to load additional files.\n",
        "\n",
        "!cp \"/content/drive/MyDrive/our_VAE_folder/OURVAEFILE1.pt\" \"/content/microsoftexcel/models/VAE\"\n",
        "#!cp \"/content/drive/MyDrive/our_VAE_folder/OURVAEFILE2.pt\" \"/content/microsoftexcel/models/VAE\"\n",
        "#!cp \"/content/drive/MyDrive/our_VAE_folder/OURVAEFILE3.pt\" \"/content/microsoftexcel/models/VAE\"\n",
        "#!cp \"/content/drive/MyDrive/our_VAE_folder/OURVAEFILE4.pt\" \"/content/microsoftexcel/models/VAE\"\n",
        "#!cp \"/content/drive/MyDrive/our_VAE_folder/OURVAEFILE5.pt\" \"/content/microsoftexcel/models/VAE\"\n",
        "#!cp \"/content/drive/MyDrive/our_VAE_folder/OURVAEFILE6.pt\" \"/content/microsoftexcel/models/VAE\"\n",
        "#!cp \"/content/drive/MyDrive/our_VAE_folder/OURVAEFILE7.pt\" \"/content/microsoftexcel/models/VAE\"\n",
        "#!cp \"/content/drive/MyDrive/our_VAE_folder/OURVAEFILE8.pt\" \"/content/microsoftexcel/models/VAE\"\n",
        "# ...."
      ],
      "metadata": {
        "id": "mA8PuOJwrY5N"
      },
      "execution_count": null,
      "outputs": []
    },
    {
      "cell_type": "markdown",
      "source": [
        "OPTION 2: copy all VAE files from google drive folder"
      ],
      "metadata": {
        "id": "ToGrRElNrY5Q"
      }
    },
    {
      "cell_type": "code",
      "source": [
        "# Remove the '#' from the '!cp -r ...' line and change the file path to our LoRA folder path.\n",
        "# The LoRA folder path must be ended with '/.' like '/folder/subfolder/.'\n",
        "\n",
        "!cp -r '/content/drive/MyDrive/our_VAE_folder1/.' '/content/microsoftexcel/models/VAE'\n",
        "#!cp -r '/content/drive/MyDrive/our_VAE_folder2/.' '/content/microsoftexcel/models/VAE'\n",
        "#!cp -r '/content/drive/MyDrive/our_VAE_folder3/.' '/content/microsoftexcel/models/VAE'\n",
        "# ...."
      ],
      "metadata": {
        "id": "u4R5oLOmrY5Q"
      },
      "execution_count": null,
      "outputs": []
    },
    {
      "cell_type": "markdown",
      "source": [
        "# 5. Launch the web ui"
      ],
      "metadata": {
        "id": "R-WXDJ8n8R2X"
      }
    },
    {
      "cell_type": "code",
      "source": [
        "\n",
        "# Web UI tunnel\n",
        "!COMMANDLINE_ARGS=\"--share --disable-safe-unpickle --no-half-vae --xformers --enable-insecure-extension --gradio-queue\" REQS_FILE=\"requirements.txt\" python launch.py\n",
        "# Use this command below to use cloudflare tunnel\n",
        "#!COMMANDLINE_ARGS=\"--disable-safe-unpickle --no-half-vae --xformers --enable-insecure-extension --gradio-queue --cloudflared\" REQS_FILE=\"requirements.txt\" python launch.py"
      ],
      "metadata": {
        "id": "TFuxn-DE7t82"
      },
      "execution_count": null,
      "outputs": []
    },
    {
      "cell_type": "markdown",
      "metadata": {
        "id": "fhwIXzcgfkoR"
      },
      "source": [
        "# 📚 GitHub for more: [_@nolanaatama_](https://github.com/nolanaatama)\n",
        "# 📦 Repo: [Github](https://github.com/nolanaatama/sd-misc-colab)"
      ]
    }
  ],
  "metadata": {
    "accelerator": "GPU",
    "colab": {
      "provenance": []
    },
    "gpuClass": "standard",
    "kernelspec": {
      "display_name": "Python 3",
      "name": "python3"
    },
    "language_info": {
      "name": "python"
    }
  },
  "nbformat": 4,
  "nbformat_minor": 0
}