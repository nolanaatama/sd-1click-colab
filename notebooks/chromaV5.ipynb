{
  "nbformat": 4,
  "nbformat_minor": 0,
  "metadata": {
    "colab": {
      "provenance": []
    },
    "kernelspec": {
      "name": "python3",
      "display_name": "Python 3"
    },
    "language_info": {
      "name": "python"
    },
    "accelerator": "GPU",
    "gpuClass": "standard"
  },
  "cells": [
    {
      "cell_type": "code",
      "source": [
        "!pip install --upgrade fastapi==0.90.0\n",
		"!git clone https://github.com/AUTOMATIC1111/stable-diffusion-webui\n",
        "!git clone https://github.com/yfszzx/stable-diffusion-webui-images-browser /content/stable-diffusion-webui/extensions/stable-diffusion-webui-images-browser\n",
		"%pip install -q https://github.com/nolanaatama/sd-webui/releases/download/xformers/xformers-0.0.15+e163309.d20230103-cp38-cp38-linux_x86_64.whl\n",
        "!curl -Lo chromaV5.ckpt 'https://huggingface.co/SomaMythos/ChromaV5/resolve/main/ChromaV5.ckpt'\n",
        "!mv \"/content/chromaV5.ckpt\" \"/content/stable-diffusion-webui/models/Stable-diffusion\"\n",
        "%cd /content/stable-diffusion-webui\n",
        "!git checkout 11d432d # temporary fix\n",
        "!COMMANDLINE_ARGS=\"--share --gradio-debug --medvram --disable-safe-unpickle --xformers\" REQS_FILE=\"requirements.txt\" python launch.py"
      ],
      "metadata": {
        "id": "2YU73dRwTffj"
      },
      "execution_count": null,
      "outputs": []
    },
    {
      "cell_type": "markdown",
      "metadata": {
        "id": "fhwIXzcgfkoR"
      },
      "source": [
        "# 📚 GitHub for more: [_@nolanaatama_](https://github.com/nolanaatama)\n",
        "# 📦 Repo: [Github](https://github.com/nolanaatama/sd-colab)"
      ]
    }
  ]
}