{
  "nbformat": 4,
  "nbformat_minor": 0,
  "metadata": {
    "colab": {
      "provenance": []
    },
    "kernelspec": {
      "name": "python3",
      "display_name": "Python 3"
    },
    "language_info": {
      "name": "python"
    },
    "accelerator": "GPU",
    "gpuClass": "standard"
  },
  "cells": [
    {
      "cell_type": "code",
      "execution_count": null,
      "metadata": {
        "id": "3xdPbMujWYJ8"
      },
      "outputs": [],
      "source": [
        "from google.colab import drive\n",
        "drive.mount('/content/drive')"
      ]
    },
    {
      "cell_type": "code",
      "source": [
        "!curl -Lo memfix.zip https://github.com/nolanaatama/microsoftexcel/raw/main/memfix.zip\n",
        "!unzip /content/memfix.zip\n",
        "!apt -y update -qq\n",
        "%env LD_PRELOAD=/content/libtcmalloc_minimal.so.4\n",
        "\n",
        "!curl -Lo microsoftexcel.zip https://huggingface.co/nolanaatama/colab/resolve/main/microsoftexcel151.zip\n",
        "!unzip /content/microsoftexcel.zip\n",
        "\n",
        "# Extensions Section\n",
        "!git clone https://github.com/nolanaatama/microsoftexcel-tunnels /content/microsoftexcel/extensions/microsoftexcel-tunnels\n",
        "!git clone https://github.com/nolanaatama/microsoftexcel-controlnet /content/microsoftexcel/extensions/microsoftexcel-controlnet\n",
        "!git clone https://github.com/fkunn1326/openpose-editor /content/microsoftexcel/extensions/openpose-editor\n",
        "!git clone https://github.com/nolanaatama/microsoftexcel-3d-open-pose-editor /content/microsoftexcel/extensions/microsoftexcel-3d-open-pose-editor\n",
        "!git clone https://github.com/nolanaatama/a1111-microsoftexcel-tagcomplete /content/microsoftexcel/extensions/a1111-microsoftexcel-tagcomplete\n",
        "!git clone https://github.com/nolanaatama/a1111-microsoftexcel-locon /content/microsoftexcel/extensions/a1111-microsoftexcel-locon\n",
        "# Additional Extensions\n",
        "# !After Detailer\n",
        "#!git clone https://github.com/Bing-su/adetailer /content/microsoftexcel/extensions/adetailer\n",
        "#!git clone https://huggingface.co/Bingsu/adetailer /content/microsoftexcel/models/adetailer\n",
        "# Deforum\n",
        "#!git clone https://github.com/nolanaatama/microsoftexcel-deforum /content/microsoftexcel/extensions/microsoftexcel-deforum\n",
        "# Mov2mov\n",
        "#!git clone https://github.com/nolanaatama/microsoftexcel-mov2mov /content/microsoftexcel/extensions/microsoftexcel-mov2mov\n",
        "# roop\n",
        "#!git clone https://github.com/nolanaatama/microsoftexcel-roop /content/microsoftexcel/extensions/microsoftexcel-roop\n",
        "# SuperMerger\n",
        "#!git clone https://github.com/nolanaatama/microsoftexcel-supermerger /content/microsoftexcel/extensions/microsoftexcel-supermerger\n",
        "# TemporalKit\n",
        "#!git clone https://github.com/CiaraStrawberry/TemporalKit /content/microsoftexcel/extensions/TemporalKit\n",
        "# Ultimate SD Upscale\n",
        "#!git clone https://github.com/Coyote-A/ultimate-upscale-for-automatic1111 /content/microsoftexcel/extensions/ultimate-upscale-for-automatic1111\n",
        "\n",
        "!mkdir /content/microsoftexcel/models/ESRGAN\n",
        "!curl -Lo /content/microsoftexcel/extensions/microsoftexcel-images-browser.zip https://huggingface.co/nolanaatama/colab/resolve/main/microsoftexcel-images-browser.zip\n",
        "!curl -Lo /content/microsoftexcel/embeddings/embeddings.zip https://huggingface.co/nolanaatama/colab/resolve/main/embeddings.zip\n",
        "!curl -Lo /content/microsoftexcel/models/ESRGAN/upscalers.zip https://huggingface.co/nolanaatama/colab/resolve/main/upscalers.zip\n",
        "%cd /content/microsoftexcel/extensions\n",
        "!unzip /content/microsoftexcel/extensions/microsoftexcel-images-browser.zip\n",
        "%cd /content/microsoftexcel/embeddings\n",
        "!unzip /content/microsoftexcel/embeddings/embeddings.zip\n",
        "%cd /content/microsoftexcel/models/ESRGAN\n",
        "!unzip /content/microsoftexcel/models/ESRGAN/upscalers.zip\n",
        "!rm upscalers.zip\n",
        "%cd /content\n",
        "\n",
        "\n",
        "# CHANGE THE FILE PATH BELOW WITH OUR MODEL PATH\n",
        "\n",
        "!cp \"/content/drive/MyDrive/mymodel/OURMODELNAME.ckpt\" \"/content/microsoftexcel/models/Stable-diffusion\"\n",
        "\n",
        "# remove '#' from the beginning of these lines below and change the file path if we want to load more than one model\n",
        "# !cp \"/content/drive/MyDrive/mymodel/OURMODELNAME.ckpt\" \"/content/microsoftexcel/models/Stable-diffusion\"\n",
        "# !cp \"/content/drive/MyDrive/mymodel/OURMODELNAME.ckpt\" \"/content/microsoftexcel/models/Stable-diffusion\"\n",
        "\n",
        "\n",
        "# ControlNet\n",
        "# Remove '#' from the beginning of the line(s) below to download the selected ControlNet model(s)\n",
        "#!curl -Lo /content/microsoftexcel/extensions/microsoftexcel-controlnet/models/control_v11e_sd15_ip2p.safetensors https://huggingface.co/nolanaatama/models/resolve/main/control_v11e_sd15_ip2p_fp16.safetensors\n",
        "#!curl -Lo /content/microsoftexcel/extensions/microsoftexcel-controlnet/models/control_v11e_sd15_shuffle.safetensors https://huggingface.co/nolanaatama/models/resolve/main/control_v11e_sd15_shuffle_fp16.safetensors\n",
        "#!curl -Lo /content/microsoftexcel/extensions/microsoftexcel-controlnet/models/control_v11p_sd15_canny.safetensors https://huggingface.co/nolanaatama/models/resolve/main/control_v11p_sd15_canny_fp16.safetensors\n",
        "#!curl -Lo /content/microsoftexcel/extensions/microsoftexcel-controlnet/models/control_v11f1p_sd15_depth.safetensors https://huggingface.co/nolanaatama/models/resolve/main/control_v11p_sd15_depth_fp16.safetensors\n",
        "#!curl -Lo /content/microsoftexcel/extensions/microsoftexcel-controlnet/models/control_v11p_sd15_inpaint.safetensors https://huggingface.co/nolanaatama/models/resolve/main/control_v11p_sd15_inpaint_fp16.safetensors\n",
        "#!curl -Lo /content/microsoftexcel/extensions/microsoftexcel-controlnet/models/control_v11p_sd15_lineart.safetensors https://huggingface.co/nolanaatama/models/resolve/main/control_v11p_sd15_lineart_fp16.safetensors\n",
        "#!curl -Lo /content/microsoftexcel/extensions/microsoftexcel-controlnet/models/control_v11p_sd15_mlsd.safetensors https://huggingface.co/nolanaatama/models/resolve/main/control_v11p_sd15_mlsd_fp16.safetensors\n",
        "#!curl -Lo /content/microsoftexcel/extensions/microsoftexcel-controlnet/models/control_v11p_sd15_normalbae.safetensors https://huggingface.co/nolanaatama/models/resolve/main/control_v11p_sd15_normalbae_fp16.safetensors\n",
		"#!curl -Lo /content/microsoftexcel/extensions/microsoftexcel-controlnet/models/control_v11p_sd15_openpose.safetensors https://huggingface.co/nolanaatama/models/resolve/main/control_v11p_sd15_openpose_fp16.safetensors\n",
        "#!curl -Lo /content/microsoftexcel/extensions/microsoftexcel-controlnet/models/control_v11p_sd15_scribble.safetensors https://huggingface.co/nolanaatama/models/resolve/main/control_v11p_sd15_scribble_fp16.safetensors\n",
        "#!curl -Lo /content/microsoftexcel/extensions/microsoftexcel-controlnet/models/control_v11p_sd15_seg.safetensors https://huggingface.co/nolanaatama/models/resolve/main/control_v11p_sd15_seg_fp16.safetensors\n",
        "#!curl -Lo /content/microsoftexcel/extensions/microsoftexcel-controlnet/models/control_v11p_sd15_softedge.safetensors https://huggingface.co/nolanaatama/models/resolve/main/control_v11p_sd15_softedge_fp16.safetensors\n",
        "#!curl -Lo /content/microsoftexcel/extensions/microsoftexcel-controlnet/models/control_v11p_sd15s2_lineart_anime.safetensors https://huggingface.co/nolanaatama/models/resolve/main/control_v11p_sd15s2_lineart_anime_fp16.safetensors\n",
        "#!curl -Lo /content/microsoftexcel/extensions/microsoftexcel-controlnet/models/control_v11f1e_sd15_tile.safetensors https://huggingface.co/nolanaatama/models/resolve/main/control_v11f1e_sd15_tile_fp16.safetensors\n",
        "#!curl -Lo /content/microsoftexcel/extensions/microsoftexcel-controlnet/models/t2iadapter_canny_sd14v1.pth https://huggingface.co/nolanaatama/models/resolve/main/t2iadapter_canny_sd14v1.pth\n",
        "#!curl -Lo /content/microsoftexcel/extensions/microsoftexcel-controlnet/models/t2iadapter_color_sd14v1.pth https://huggingface.co/nolanaatama/models/resolve/main/t2iadapter_color_sd14v1.pth\n",
		"#!curl -Lo /content/microsoftexcel/extensions/microsoftexcel-controlnet/models/t2iadapter_depth_sd14v1.pth https://huggingface.co/nolanaatama/models/resolve/main/t2iadapter_depth_sd14v1.pth\n",
        "#!curl -Lo /content/microsoftexcel/extensions/microsoftexcel-controlnet/models/t2iadapter_keypose_sd14v1.pth https://huggingface.co/nolanaatama/models/resolve/main/t2iadapter_keypose_sd14v1.pth\n",
        "#!curl -Lo /content/microsoftexcel/extensions/microsoftexcel-controlnet/models/t2iadapter_openpose_sd14v1.pth https://huggingface.co/nolanaatama/models/resolve/main/t2iadapter_openpose_sd14v1.pth\n",
        "#!curl -Lo /content/microsoftexcel/extensions/microsoftexcel-controlnet/models/t2iadapter_seg_sd14v1.pth https://huggingface.co/nolanaatama/models/resolve/main/t2iadapter_seg_sd14v1.pth\n",
        "#!curl -Lo /content/microsoftexcel/extensions/microsoftexcel-controlnet/models/t2iadapter_sketch_sd14v1.pth https://huggingface.co/nolanaatama/models/resolve/main/t2iadapter_sketch_sd14v1.pth\n",
        "#!curl -Lo /content/microsoftexcel/extensions/microsoftexcel-controlnet/models/t2iadapter_style_sd14v1.pth https://huggingface.co/nolanaatama/models/resolve/main/t2iadapter_style_sd14v1.pth\n",
        "!rm microsoftexcel.zip\n",
        "%cd /content/microsoftexcel\n",
        "\n",
        "# Web UI tunnel\n",
        "!COMMANDLINE_ARGS=\"--share --disable-safe-unpickle --no-half-vae --xformers --enable-insecure-extension --gradio-queue\" REQS_FILE=\"requirements.txt\" python launch.py\n",
        "# Use this command below to use cloudflare tunnel\n",
        "#!COMMANDLINE_ARGS=\"--disable-safe-unpickle --no-half-vae --xformers --enable-insecure-extension --gradio-queue --cloudflared\" REQS_FILE=\"requirements.txt\" python launch.py"
      ],
      "metadata": {
        "id": "Hu_vWtpHWeEI"
      },
      "execution_count": null,
      "outputs": []
    },
    {
      "cell_type": "markdown",
      "source": [
        "# 📚 GitHub for more: [_@nolanaatama_](https://github.com/nolanaatama)\n",
        "# 📦 Repo: [Github](https://github.com/nolanaatama/sd-misc-colab)\n",
        "# ▶️ Load models from Google Drive: https://youtu.be/MwyfwPFezvY\n",
        "# ▶️ How to load more than one model: https://youtu.be/vj-QrS_mWQI"
      ],
      "metadata": {
        "id": "qZ2T45cHgOK8"
      }
    }
  ]
}