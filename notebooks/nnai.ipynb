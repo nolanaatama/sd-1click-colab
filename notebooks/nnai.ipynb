{
  "nbformat": 4,
  "nbformat_minor": 0,
  "metadata": {
    "colab": {
      "provenance": []
    },
    "kernelspec": {
      "name": "python3",
      "display_name": "Python 3"
    },
    "language_info": {
      "name": "python"
    },
    "accelerator": "GPU",
    "gpuClass": "standard"
  },
  "cells": [
    {
      "cell_type": "code",
      "execution_count": null,
      "metadata": {
        "id": "MZbUKIz-Cfn4"
      },
      "outputs": [],
      "source": [
        "!apt install -y -qq aria2\n",
        "!aria2c --summary-interval=5 -x 3 --allow-overwrite=true -Z \\\n",
        "   https://pub-2fdef7a2969f43289c42ac5ae3412fd4.r2.dev/naifu.tar\n",
        "!tar xf naifu.tar && rm naifu.tar\n",
        "%cd /content/naifu\n",
        "!pip install virtualenv && bash ./setup.sh\n",
        "!curl -Ls https://github.com/ekzhang/bore/releases/download/v0.4.0/bore-v0.4.0-x86_64-unknown-linux-musl.tar.gz | tar zx -C /usr/bin\n",
        "!curl -Lo /usr/bin/cloudflared https://github.com/cloudflare/cloudflared/releases/latest/download/cloudflared-linux-amd64 && chmod +x /usr/bin/cloudflared\n",
        "!/content/naifu/venv/bin/python -m pip install -qq pytorch_lightning==1.7.7\n",
        "!sed -i 's/# export SAVE_FILES=\"1\"/export SAVE_FILES=\"1\"/g' run.sh\n",
        "!bash run.sh & cloudflared tunnel --url localhost:6969"
      ]
    },
    {
      "cell_type": "markdown",
      "source": [
        "*Wait until text below appears:*\n",
        "\n",
        "**'INFO:     Application startup complete.'**"
      ],
      "metadata": {
        "id": "Fn4RM4pcJAhi"
      }
    },
    {
      "cell_type": "markdown",
      "source": [
        "*then scroll up and click the blue link in text box like this:*\n",
        "\n",
        "**Your quick Tunnel has been created!**\n",
        "\n",
        "**Visit it at (it may take some time to be reachable):** https://example.trycloudflare.com\n"
      ],
      "metadata": {
        "id": "rjA_9B4zLPdi"
      }
    }
  ]
}